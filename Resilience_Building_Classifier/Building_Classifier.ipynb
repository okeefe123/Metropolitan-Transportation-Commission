{
 "cells": [
  {
   "cell_type": "markdown",
   "id": "24c44cea-b869-4e36-b0ee-5a8d80b2edb8",
   "metadata": {},
   "source": [
    "# Resilience Building Classifier \n",
    "\n",
    "## Goals:\n",
    "\n",
    "1. Use data collected from 2019-2020 team of Google street views to replicate Deep Learning Classifier which predicts land use types:\n",
    "\n",
    "    i. Commercial\n",
    "    \n",
    "    ii. Downtown\n",
    "    \n",
    "    iii. Industrial\n",
    "    \n",
    "    iv. Residential\n",
    "\n",
    "2. Improve on the previous model by the following techniques:\n",
    "\n",
    "    a. Choosing the more sophisticated Resnet18 as base model.\n",
    "    \n",
    "    b. Enabling fine tuning for layers within the pretrained model.\n",
    "    \n",
    "    c. Implement additional augmentation techniques to the training images\n",
    "    \n",
    "\n",
    "## Steps:\n",
    "\n",
    "1. Read in data from directory 2000_per_label_images as a pandas dataframe\n",
    "\n",
    "2. Create Dataset class for retrieving images from their path and utilize DataLoaders for batch training.\n",
    "\n",
    "3. Upload the model and tweak the layers for our task\n",
    "\n",
    "4. Implement training procedure:\n",
    "\n",
    "    a. Create helper functions for hyperparameter adjustments (learning rate, layers prone to gradient descent)\n",
    "    \n",
    "        - Triangular learning rate\n",
    "        \n",
    "        - Unfreeze layers at a consistent interval through training epochs\n",
    "        \n",
    "5. Train model for 50 epochs.\n",
    "\n",
    "6. Analysis of results."
   ]
  },
  {
   "cell_type": "code",
   "execution_count": 1,
   "id": "4d20494f-42f7-4f2c-93ea-8661e7f62cf8",
   "metadata": {},
   "outputs": [],
   "source": [
    "#%pip install -U torchvision"
   ]
  },
  {
   "cell_type": "code",
   "execution_count": 1,
   "id": "pediatric-castle",
   "metadata": {},
   "outputs": [],
   "source": [
    "import os\n",
    "import cv2\n",
    "import time\n",
    "import pickle\n",
    "import numpy as np\n",
    "import pandas as pd\n",
    "from tqdm.notebook import tqdm\n",
    "from datetime import date\n",
    "import matplotlib.pyplot as plt\n",
    "\n",
    "import torch\n",
    "from torch.utils.data import Dataset, DataLoader\n",
    "import torch.nn as nn\n",
    "import torch.optim as optim\n",
    "\n",
    "# data augmentation\n",
    "import albumentations as A\n",
    "from albumentations.pytorch import ToTensorV2\n",
    "\n",
    "# pretrained models\n",
    "import torchvision\n",
    "from torchvision import models, transforms"
   ]
  },
  {
   "cell_type": "markdown",
   "id": "4ead675b-da10-4110-9f1f-e5e4c53058b8",
   "metadata": {},
   "source": [
    "# Read in Data"
   ]
  },
  {
   "cell_type": "code",
   "execution_count": 3,
   "id": "fresh-clear",
   "metadata": {
    "tags": []
   },
   "outputs": [
    {
     "name": "stdout",
     "output_type": "stream",
     "text": [
      "7999\n"
     ]
    },
    {
     "data": {
      "text/html": [
       "<div>\n",
       "<style scoped>\n",
       "    .dataframe tbody tr th:only-of-type {\n",
       "        vertical-align: middle;\n",
       "    }\n",
       "\n",
       "    .dataframe tbody tr th {\n",
       "        vertical-align: top;\n",
       "    }\n",
       "\n",
       "    .dataframe thead th {\n",
       "        text-align: right;\n",
       "    }\n",
       "</style>\n",
       "<table border=\"1\" class=\"dataframe\">\n",
       "  <thead>\n",
       "    <tr style=\"text-align: right;\">\n",
       "      <th></th>\n",
       "      <th>image_file</th>\n",
       "      <th>label</th>\n",
       "      <th>image_path</th>\n",
       "    </tr>\n",
       "  </thead>\n",
       "  <tbody>\n",
       "    <tr>\n",
       "      <th>0</th>\n",
       "      <td>643p0.jpg</td>\n",
       "      <td>residential</td>\n",
       "      <td>/home/oniemann/Resilience_Classifier/data/resi...</td>\n",
       "    </tr>\n",
       "    <tr>\n",
       "      <th>1</th>\n",
       "      <td>489p30.jpg</td>\n",
       "      <td>residential</td>\n",
       "      <td>/home/oniemann/Resilience_Classifier/data/resi...</td>\n",
       "    </tr>\n",
       "    <tr>\n",
       "      <th>2</th>\n",
       "      <td>1306p0.jpg</td>\n",
       "      <td>residential</td>\n",
       "      <td>/home/oniemann/Resilience_Classifier/data/resi...</td>\n",
       "    </tr>\n",
       "    <tr>\n",
       "      <th>3</th>\n",
       "      <td>205p0.jpg</td>\n",
       "      <td>residential</td>\n",
       "      <td>/home/oniemann/Resilience_Classifier/data/resi...</td>\n",
       "    </tr>\n",
       "    <tr>\n",
       "      <th>4</th>\n",
       "      <td>1893p30.jpg</td>\n",
       "      <td>residential</td>\n",
       "      <td>/home/oniemann/Resilience_Classifier/data/resi...</td>\n",
       "    </tr>\n",
       "  </tbody>\n",
       "</table>\n",
       "</div>"
      ],
      "text/plain": [
       "    image_file        label                                         image_path\n",
       "0    643p0.jpg  residential  /home/oniemann/Resilience_Classifier/data/resi...\n",
       "1   489p30.jpg  residential  /home/oniemann/Resilience_Classifier/data/resi...\n",
       "2   1306p0.jpg  residential  /home/oniemann/Resilience_Classifier/data/resi...\n",
       "3    205p0.jpg  residential  /home/oniemann/Resilience_Classifier/data/resi...\n",
       "4  1893p30.jpg  residential  /home/oniemann/Resilience_Classifier/data/resi..."
      ]
     },
     "execution_count": 3,
     "metadata": {},
     "output_type": "execute_result"
    }
   ],
   "source": [
    "data_path = '/home/oniemann/Resilience_Classifier/data/'\n",
    "\n",
    "rows = []\n",
    "\n",
    "for label in os.listdir(data_path):\n",
    "    for image in os.listdir(data_path + f'/{label}'):\n",
    "        row = dict()\n",
    "        row['image_file'] = image\n",
    "        row['label'] = label\n",
    "\n",
    "        # a bit redudant, could build from other data in __getitem__ if wanted\n",
    "        row['image_path'] = data_path + f'/{label}'\n",
    "        if '.jpg' in row['image_file']:\n",
    "            rows.append(row)\n",
    "        \n",
    "df = pd.DataFrame(rows[1:])\n",
    "df['image_path'] = df['image_path'].map(lambda x: x.replace(\"//\", \"/\"))\n",
    "print(len(df))\n",
    "df.head()"
   ]
  },
  {
   "cell_type": "markdown",
   "id": "132d7a78-d91b-4364-914b-230028478017",
   "metadata": {},
   "source": [
    "- 2000 images with their paths and labels accounted for in df"
   ]
  },
  {
   "cell_type": "code",
   "execution_count": 4,
   "id": "83c99116-9e20-462d-986b-f806de57ad8f",
   "metadata": {},
   "outputs": [
    {
     "data": {
      "text/plain": [
       "downtown       2000\n",
       "industrial     2000\n",
       "commercial     2000\n",
       "residential    1999\n",
       "Name: label, dtype: int64"
      ]
     },
     "execution_count": 4,
     "metadata": {},
     "output_type": "execute_result"
    }
   ],
   "source": [
    "df.label.value_counts()"
   ]
  },
  {
   "cell_type": "markdown",
   "id": "872d08e5-389c-460e-b454-d5affb9c85d0",
   "metadata": {},
   "source": [
    "# Dataset class\n",
    "\n",
    "- retrieves images from their path and returns the augmented image as RGB tensor and its associated label\n",
    "\n",
    "- Augmentations: Random Cropping, Horizontal/Vertical Flip (p=0.5), Rotation (p=0.75), Brightness Contrast (p=0.1)"
   ]
  },
  {
   "cell_type": "code",
   "execution_count": 17,
   "id": "intimate-contest",
   "metadata": {},
   "outputs": [],
   "source": [
    "from albumentations.pytorch import ToTensorV2\n",
    "\n",
    "class BuildingImagesDataset(Dataset):\n",
    "    def __init__(self, df):\n",
    "        self.df = df\n",
    "        \n",
    "        self.label_dict = {label:idx for idx, label in enumerate(df.label.unique())}\n",
    "        \n",
    "        # Randomly augment images for variety\n",
    "        self.transforms = A.Compose([\n",
    "            # spatial transforms\n",
    "            A.RandomCrop(width=400, height=400),\n",
    "            A.HorizontalFlip(p=.5),\n",
    "            A.VerticalFlip(p=.5),\n",
    "            A.Rotate(limit = 10, \n",
    "                     border_mode = cv2.BORDER_CONSTANT, \n",
    "                     value = 0.0, p = .75),\n",
    "\n",
    "            # pixel-level transformation\n",
    "            A.RandomBrightnessContrast(p=0.1),\n",
    "\n",
    "            # we will normalize according to ImageNet since we will be using a pre-trained ResNet\n",
    "            # this adjusts from [0,255] to [0,1]\n",
    "            A.Normalize(mean=(0.485, 0.456, 0.406), std=(0.229, 0.224, 0.225)),\n",
    "\n",
    "            # convert to a tensor and move color channels\n",
    "            ToTensorV2()\n",
    "        ])\n",
    "        \n",
    "    def __len__(self):\n",
    "        return len(self.df)\n",
    "    \n",
    "    def __getitem__(self, idx):\n",
    "        row = self.df.iloc[idx]\n",
    "        \n",
    "        path = row['image_path'] + f\"/{row['image_file']}\"\n",
    "        \n",
    "        img = cv2.imread(path)\n",
    "        \n",
    "        img = cv2.cvtColor(img, cv2. COLOR_BGR2RGB)\n",
    "        \n",
    "        transformed = self.transforms(image=img.astype(np.uint8))\n",
    "        img = transformed['image']\n",
    "        \n",
    "        #Scale to v\n",
    "        img = ((img - img.min()) / (img.max()-img.min()))\n",
    "        \n",
    "        label = torch.tensor(self.label_dict[row['label']])\n",
    "        \n",
    "        return img, label"
   ]
  },
  {
   "cell_type": "code",
   "execution_count": 18,
   "id": "challenging-minimum",
   "metadata": {},
   "outputs": [
    {
     "name": "stdout",
     "output_type": "stream",
     "text": [
      "residential\n"
     ]
    },
    {
     "data": {
      "image/png": "[encoded data removed]",
      "text/plain": [
       "<Figure size 432x288 with 1 Axes>"
      ]
     },
     "metadata": {
      "needs_background": "light"
     },
     "output_type": "display_data"
    }
   ],
   "source": [
    "# Example\n",
    "ds = BuildingImagesDataset(df)\n",
    "translate_back = {v:k for k, v in ds.label_dict.items()}\n",
    "img = np.transpose(ds[1994][0], (1, 2, 0))\n",
    "print(translate_back[ds[1994][1].item()])\n",
    "plt.imshow(img);"
   ]
  },
  {
   "cell_type": "markdown",
   "id": "d1f73774-0507-41d9-8ac3-f6e5e123a7de",
   "metadata": {},
   "source": [
    "- Create training and validation DataLoaders"
   ]
  },
  {
   "cell_type": "code",
   "execution_count": 20,
   "id": "detected-blank",
   "metadata": {},
   "outputs": [],
   "source": [
    "from sklearn.model_selection import train_test_split\n",
    "\n",
    "batch_size = 30\n",
    "\n",
    "df_train, df_test = train_test_split(df)\n",
    "df_train, df_valid = train_test_split(df_train)\n",
    "\n",
    "ds_train = BuildingImagesDataset(df_train)\n",
    "ds_valid = BuildingImagesDataset(df_valid)\n",
    "\n",
    "dl_train = DataLoader(ds_train, batch_size = batch_size, shuffle=True)\n",
    "dl_valid = DataLoader(ds_valid, batch_size = batch_size, shuffle=False)"
   ]
  },
  {
   "cell_type": "code",
   "execution_count": 34,
   "id": "3fdb64c4-aa8d-47e3-a47e-6a02a40de959",
   "metadata": {},
   "outputs": [],
   "source": [
    "# debugging the dataset, cv2.cvtColor errors out in training for faulty pictures\n",
    "\n",
    "# for i in range(len(df_train.index)):\n",
    "#     row = df_train.iloc[i]\n",
    "    \n",
    "#     try:\n",
    "#         path = row['image_path'] + f\"/{row['image_file']}\"\n",
    "#         img = cv2.imread(path)\n",
    "#         img = cv2.cvtColor(img, cv2. COLOR_BGR2RGB)\n",
    "    \n",
    "#     except:\n",
    "#         print(row['image_path'] + f\"/{row['image_file']}\")"
   ]
  },
  {
   "cell_type": "markdown",
   "id": "norwegian-diagram",
   "metadata": {},
   "source": [
    "# Create CNN Model:"
   ]
  },
  {
   "cell_type": "code",
   "execution_count": 10,
   "id": "26df57f5-b3fa-4078-8712-a71ff7c93b58",
   "metadata": {
    "collapsed": true,
    "jupyter": {
     "outputs_hidden": true
    },
    "tags": []
   },
   "outputs": [
    {
     "data": {
      "text/plain": [
       "['AlexNet',\n",
       " 'DenseNet',\n",
       " 'GoogLeNet',\n",
       " 'GoogLeNetOutputs',\n",
       " 'Inception3',\n",
       " 'InceptionOutputs',\n",
       " 'MNASNet',\n",
       " 'MobileNetV2',\n",
       " 'MobileNetV3',\n",
       " 'ResNet',\n",
       " 'ShuffleNetV2',\n",
       " 'SqueezeNet',\n",
       " 'VGG',\n",
       " '_GoogLeNetOutputs',\n",
       " '_InceptionOutputs',\n",
       " '__builtins__',\n",
       " '__cached__',\n",
       " '__doc__',\n",
       " '__file__',\n",
       " '__loader__',\n",
       " '__name__',\n",
       " '__package__',\n",
       " '__path__',\n",
       " '__spec__',\n",
       " '_utils',\n",
       " 'alexnet',\n",
       " 'densenet',\n",
       " 'densenet121',\n",
       " 'densenet161',\n",
       " 'densenet169',\n",
       " 'densenet201',\n",
       " 'detection',\n",
       " 'googlenet',\n",
       " 'inception',\n",
       " 'inception_v3',\n",
       " 'mnasnet',\n",
       " 'mnasnet0_5',\n",
       " 'mnasnet0_75',\n",
       " 'mnasnet1_0',\n",
       " 'mnasnet1_3',\n",
       " 'mobilenet',\n",
       " 'mobilenet_v2',\n",
       " 'mobilenet_v3_large',\n",
       " 'mobilenet_v3_small',\n",
       " 'mobilenetv2',\n",
       " 'mobilenetv3',\n",
       " 'quantization',\n",
       " 'resnet',\n",
       " 'resnet101',\n",
       " 'resnet152',\n",
       " 'resnet18',\n",
       " 'resnet34',\n",
       " 'resnet50',\n",
       " 'resnext101_32x8d',\n",
       " 'resnext50_32x4d',\n",
       " 'segmentation',\n",
       " 'shufflenet_v2_x0_5',\n",
       " 'shufflenet_v2_x1_0',\n",
       " 'shufflenet_v2_x1_5',\n",
       " 'shufflenet_v2_x2_0',\n",
       " 'shufflenetv2',\n",
       " 'squeezenet',\n",
       " 'squeezenet1_0',\n",
       " 'squeezenet1_1',\n",
       " 'utils',\n",
       " 'vgg',\n",
       " 'vgg11',\n",
       " 'vgg11_bn',\n",
       " 'vgg13',\n",
       " 'vgg13_bn',\n",
       " 'vgg16',\n",
       " 'vgg16_bn',\n",
       " 'vgg19',\n",
       " 'vgg19_bn',\n",
       " 'video',\n",
       " 'wide_resnet101_2',\n",
       " 'wide_resnet50_2']"
      ]
     },
     "execution_count": 10,
     "metadata": {},
     "output_type": "execute_result"
    }
   ],
   "source": [
    "dir(models)\n",
    "\n",
    "# clear the cache if running out of memory\n",
    "# torch.cuda.empty_cache()"
   ]
  },
  {
   "cell_type": "markdown",
   "id": "ea429224-e744-4b41-a384-5a93f053063b",
   "metadata": {},
   "source": [
    "- Tweak the final layer and create directory to save both models and parameter checkpoints"
   ]
  },
  {
   "cell_type": "code",
   "execution_count": 30,
   "id": "allied-brass",
   "metadata": {
    "tags": []
   },
   "outputs": [
    {
     "name": "stdout",
     "output_type": "stream",
     "text": [
      "mkdir: cannot create directory ‘models/resnet18’: File exists\n",
      "mkdir: cannot create directory ‘models/resnet18/model_checkpoints’: File exists\n"
     ]
    }
   ],
   "source": [
    "#resnet = models.resnet18(pretrained=True)\n",
    "today = str(date.today())\n",
    "model = models.resnet18(pretrained=True)\n",
    "model.fc = nn.Linear(512, 4, bias=True)\n",
    "\n",
    "directory = 'resnet18'\n",
    "!mkdir models/$directory\n",
    "!mkdir models/$directory/model_checkpoints"
   ]
  },
  {
   "cell_type": "markdown",
   "id": "8f8d569b-d101-4800-8a52-66ef843e4090",
   "metadata": {},
   "source": [
    "- (Optional) exploration of structure and toggling the freezing/unfreezing of gradients"
   ]
  },
  {
   "cell_type": "code",
   "execution_count": 13,
   "id": "bibliographic-equivalent",
   "metadata": {
    "tags": []
   },
   "outputs": [],
   "source": [
    "# from torchsummary import summary\n",
    "# summary(model, input_size = (3, 400, 400), device='cpu')"
   ]
  },
  {
   "cell_type": "code",
   "execution_count": 14,
   "id": "informational-punch",
   "metadata": {
    "tags": []
   },
   "outputs": [],
   "source": [
    "# for param in model.parameters():\n",
    "#             param.requires_grad = False\n",
    "        \n",
    "\n",
    "# for name, param in model.named_parameters():\n",
    "#     print(f\"{name} gradient is set to\", param.requires_grad)"
   ]
  },
  {
   "cell_type": "code",
   "execution_count": 28,
   "id": "settled-present",
   "metadata": {},
   "outputs": [],
   "source": []
  },
  {
   "cell_type": "markdown",
   "id": "eight-binding",
   "metadata": {},
   "source": [
    "# Connect to GPU // Create Training Loop"
   ]
  },
  {
   "cell_type": "code",
   "execution_count": 16,
   "id": "077dc6ca-484c-4150-b9ce-94530b80f395",
   "metadata": {
    "tags": []
   },
   "outputs": [
    {
     "data": {
      "text/plain": [
       "True"
      ]
     },
     "execution_count": 16,
     "metadata": {},
     "output_type": "execute_result"
    }
   ],
   "source": [
    "torch.cuda.is_available()\n",
    "#!nvidia-smi"
   ]
  },
  {
   "cell_type": "code",
   "execution_count": 17,
   "id": "7f0bc22d-989f-4a3b-af7d-0b280f7820c1",
   "metadata": {
    "tags": []
   },
   "outputs": [
    {
     "name": "stdout",
     "output_type": "stream",
     "text": [
      "model successfully made it onto GPU\n"
     ]
    }
   ],
   "source": [
    "device = torch.device(0)\n",
    "model.to(device)\n",
    "print(\"model successfully made it onto GPU\")"
   ]
  },
  {
   "cell_type": "code",
   "execution_count": 22,
   "id": "0d1b1bad-130a-41a8-a441-12e95e4cce2a",
   "metadata": {},
   "outputs": [],
   "source": [
    "# credit: Kamron Ajfshar\n",
    "def create_optimizer(model, lr0):\n",
    "    parameters = filter(lambda p: p.requires_grad, model.parameters())\n",
    "    return optim.Adam(parameters,lr=lr0, weight_decay=1e-5)\n",
    "\n",
    "def update_optimizer(optimizer, lr0):\n",
    "    optimizer.param_groups[0][\"lr\"] = lr0\n",
    "\n",
    "def cosine_segment(start_lr, end_lr, iterations):\n",
    "    i = np.arange(iterations)\n",
    "    c_i = 1 + np.cos(i*np.pi/iterations)\n",
    "    return end_lr + (start_lr - end_lr)/2 *c_i\n",
    "\n",
    "def get_cosine_triangular_lr(max_lr, iterations):\n",
    "    min_start, min_end = max_lr/25, max_lr/(25*1e4)\n",
    "    iter1 = int(0.3*iterations)\n",
    "    iter2 = iterations - iter1\n",
    "    segs = [cosine_segment(min_start, max_lr, iter1), cosine_segment(max_lr, min_end, iter2)]\n",
    "    return np.concatenate(segs)"
   ]
  },
  {
   "cell_type": "code",
   "execution_count": 23,
   "id": "successful-murray",
   "metadata": {},
   "outputs": [],
   "source": [
    "def one_pass(model, dataloader, optimizer, lossFun, lrs, idx, backwards=True, print_loss=False):\n",
    "    if backwards == True:\n",
    "        model.train()\n",
    "    else:\n",
    "        model.eval()\n",
    "    \n",
    "    total_loss = 0.0\n",
    "    for x, y in tqdm(dataloader):\n",
    "        if backwards == True:\n",
    "            lr = lrs[idx]\n",
    "            update_optimizer(optimizer, lr)\n",
    "            \n",
    "        x, y = x.to(device), y.to(device)\n",
    "        \n",
    "        y_pred = model(x)\n",
    "        loss = lossFun(y_pred, y)\n",
    "        total_loss += loss.item()\n",
    "        \n",
    "        if backwards == True:\n",
    "            optimizer.zero_grad()\n",
    "            loss.backward()\n",
    "            optimizer.step()\n",
    "            idx += 1\n",
    "            \n",
    "    avg_loss = total_loss / len(dataloader)\n",
    "    \n",
    "    if print_loss == True:\n",
    "        print(avg_loss)\n",
    "    \n",
    "    return avg_loss, idx\n",
    "\n",
    "def one_pass_acc(model, dataloader, num_points):\n",
    "    model.eval()\n",
    "    total_incorrect = 0\n",
    "    \n",
    "    softmax = nn.LogSoftmax(dim=1)\n",
    "    \n",
    "    for x, y in dataloader:\n",
    "        x, y = x.to(device), y.to(device)\n",
    "        y_pred = softmax(model(x))\n",
    "        y_pred = torch.argmax(y_pred, dim=1)\n",
    "        \n",
    "        total_incorrect += torch.count_nonzero(y - y_pred).item()\n",
    "        \n",
    "    percent_wrong = total_incorrect / num_points\n",
    "    return 1 - percent_wrong"
   ]
  },
  {
   "cell_type": "markdown",
   "id": "furnished-worse",
   "metadata": {},
   "source": [
    "# Fine Tuning the Model"
   ]
  },
  {
   "cell_type": "code",
   "execution_count": 21,
   "id": "seven-dancing",
   "metadata": {
    "jupyter": {
     "source_hidden": true
    },
    "tags": []
   },
   "outputs": [],
   "source": [
    "# Debugging optimizer update loop\n",
    "\n",
    "# all_params = []\n",
    "\n",
    "# for name, param in resnet.named_parameters():\n",
    "#     param.requires_grad = False\n",
    "#     all_params.append(param)\n",
    "    \n",
    "# for param in all_params[-2:]:\n",
    "#     param.requires_grad = True\n",
    "\n",
    "# step = 62 // num_epochs\n",
    "\n",
    "# for i in range(1, num_epochs + 1):\n",
    "#     print(\"Epoch: \", i)\n",
    "#     for param in all_params[-i*step:]:\n",
    "#         param.requires_grad = True\n",
    "\n",
    "#     for name, param in resnet.named_parameters():\n",
    "#             print(param.requires_grad)"
   ]
  },
  {
   "cell_type": "code",
   "execution_count": 26,
   "id": "thick-delaware",
   "metadata": {},
   "outputs": [],
   "source": [
    "def update_grads(model, i, num_epochs):\n",
    "    \"\"\"Unfreezes and 'steps' numbers of layers each epoch\"\"\"\n",
    "    step = num_layers // num_epochs\n",
    "    \n",
    "    all_params = []\n",
    "    \n",
    "    for name, param in model.named_parameters():\n",
    "        all_params.append(param)\n",
    "        \n",
    "    for param in all_params[-i*step:]:\n",
    "        param.requires_grad = True\n",
    "\n",
    "    params = optimizer_params(model)\n",
    "        \n",
    "    optimizer = optim.AdamW(params, lr=0.01)\n",
    "\n",
    "    return optimizer\n",
    "\n",
    "\n",
    "def optimizer_params(model, max_lr=0.01):\n",
    "    \"\"\"\n",
    "    Scales the optimizer parameters:\n",
    "    learning rate\n",
    "    \"\"\"\n",
    "\n",
    "    # The deeper into the model, the smaller the learning rate\n",
    "    params = []\n",
    "    \n",
    "    for i, layer in enumerate(model.children()):\n",
    "        if i < 6:\n",
    "            params.append({'params': layer.parameters(), 'lr': max_lr / 100})\n",
    "        elif 5 < i < 9:\n",
    "            params.append({'params': layer.parameters(), 'lr': max_lr / 10})\n",
    "        else:\n",
    "            params.append({'params': layer.parameters()})\n",
    "\n",
    "    return params\n",
    "\n",
    "params = optimizer_params(model)"
   ]
  },
  {
   "cell_type": "code",
   "execution_count": 32,
   "id": "municipal-refrigerator",
   "metadata": {},
   "outputs": [
    {
     "data": {
      "application/vnd.jupyter.widget-view+json": {
       "model_id": "2c73229775404320a1fed9358a7ae24b",
       "version_major": 2,
       "version_minor": 0
      },
      "text/plain": [
       "0it [00:00, ?it/s]"
      ]
     },
     "metadata": {},
     "output_type": "display_data"
    },
    {
     "name": "stdout",
     "output_type": "stream",
     "text": [
      "Epoch:  0\n"
     ]
    },
    {
     "data": {
      "application/vnd.jupyter.widget-view+json": {
       "model_id": "e237119dabe4465ba45a563d39491121",
       "version_major": 2,
       "version_minor": 0
      },
      "text/plain": [
       "  0%|          | 0/150 [00:00<?, ?it/s]"
      ]
     },
     "metadata": {},
     "output_type": "display_data"
    },
    {
     "name": "stdout",
     "output_type": "stream",
     "text": [
      "Train loss:  1.5602382493019105\n"
     ]
    },
    {
     "data": {
      "application/vnd.jupyter.widget-view+json": {
       "model_id": "b07a5f9828f54c2dae6ca5f0653c1d50",
       "version_major": 2,
       "version_minor": 0
      },
      "text/plain": [
       "  0%|          | 0/50 [00:00<?, ?it/s]"
      ]
     },
     "metadata": {},
     "output_type": "display_data"
    },
    {
     "name": "stdout",
     "output_type": "stream",
     "text": [
      "Valid loss:  1.4945317912101745\n",
      "Train Acc:  0.367192709490998\n",
      "Valid Acc:  0.30533333333333335\n",
      "Epoch:  1\n"
     ]
    },
    {
     "data": {
      "application/vnd.jupyter.widget-view+json": {
       "model_id": "f1207d5d17f043b786bbf07328e97fe1",
       "version_major": 2,
       "version_minor": 0
      },
      "text/plain": [
       "  0%|          | 0/150 [00:00<?, ?it/s]"
      ]
     },
     "metadata": {},
     "output_type": "display_data"
    },
    {
     "name": "stdout",
     "output_type": "stream",
     "text": [
      "Train loss:  1.4535895148913065\n"
     ]
    },
    {
     "data": {
      "application/vnd.jupyter.widget-view+json": {
       "model_id": "b9676c772c9642128a7b7927ad9d0a4e",
       "version_major": 2,
       "version_minor": 0
      },
      "text/plain": [
       "  0%|          | 0/50 [00:00<?, ?it/s]"
      ]
     },
     "metadata": {},
     "output_type": "display_data"
    },
    {
     "name": "stdout",
     "output_type": "stream",
     "text": [
      "Valid loss:  1.3956935858726502\n",
      "Train Acc:  0.3036230273394087\n",
      "Valid Acc:  0.30600000000000005\n",
      "Epoch:  2\n"
     ]
    },
    {
     "data": {
      "application/vnd.jupyter.widget-view+json": {
       "model_id": "3870ecafb8384c40a439e038fbaf67ef",
       "version_major": 2,
       "version_minor": 0
      },
      "text/plain": [
       "  0%|          | 0/150 [00:00<?, ?it/s]"
      ]
     },
     "metadata": {},
     "output_type": "display_data"
    },
    {
     "name": "stdout",
     "output_type": "stream",
     "text": [
      "Train loss:  1.356721405982971\n"
     ]
    },
    {
     "data": {
      "application/vnd.jupyter.widget-view+json": {
       "model_id": "b92b1f4b17de49988cc4827f0c858082",
       "version_major": 2,
       "version_minor": 0
      },
      "text/plain": [
       "  0%|          | 0/50 [00:00<?, ?it/s]"
      ]
     },
     "metadata": {},
     "output_type": "display_data"
    },
    {
     "name": "stdout",
     "output_type": "stream",
     "text": [
      "Valid loss:  1.3535871624946594\n",
      "Train Acc:  0.42565014447655036\n",
      "Valid Acc:  0.3413333333333334\n",
      "Epoch:  3\n"
     ]
    },
    {
     "data": {
      "application/vnd.jupyter.widget-view+json": {
       "model_id": "8d7efa347f754afea1f6bd45cef34687",
       "version_major": 2,
       "version_minor": 0
      },
      "text/plain": [
       "  0%|          | 0/150 [00:00<?, ?it/s]"
      ]
     },
     "metadata": {},
     "output_type": "display_data"
    },
    {
     "name": "stdout",
     "output_type": "stream",
     "text": [
      "Train loss:  1.345539763768514\n"
     ]
    },
    {
     "data": {
      "application/vnd.jupyter.widget-view+json": {
       "model_id": "eabdf6dd5f054ef2934222b0457e9563",
       "version_major": 2,
       "version_minor": 0
      },
      "text/plain": [
       "  0%|          | 0/50 [00:00<?, ?it/s]"
      ]
     },
     "metadata": {},
     "output_type": "display_data"
    },
    {
     "name": "stdout",
     "output_type": "stream",
     "text": [
      "Valid loss:  2.046016719341278\n",
      "Train Acc:  0.3231829295398978\n",
      "Valid Acc:  0.258\n",
      "Epoch:  4\n"
     ]
    },
    {
     "data": {
      "application/vnd.jupyter.widget-view+json": {
       "model_id": "097f31faa93f4775945b20b668653ab9",
       "version_major": 2,
       "version_minor": 0
      },
      "text/plain": [
       "  0%|          | 0/150 [00:00<?, ?it/s]"
      ]
     },
     "metadata": {},
     "output_type": "display_data"
    },
    {
     "name": "stdout",
     "output_type": "stream",
     "text": [
      "Train loss:  1.3506910570462545\n"
     ]
    },
    {
     "data": {
      "application/vnd.jupyter.widget-view+json": {
       "model_id": "18ab67f3915c431389011faf63584ce6",
       "version_major": 2,
       "version_minor": 0
      },
      "text/plain": [
       "  0%|          | 0/50 [00:00<?, ?it/s]"
      ]
     },
     "metadata": {},
     "output_type": "display_data"
    },
    {
     "name": "stdout",
     "output_type": "stream",
     "text": [
      "Valid loss:  1.686198194026947\n",
      "Train Acc:  0.3365192264947766\n",
      "Valid Acc:  0.2346666666666667\n",
      "Epoch:  5\n"
     ]
    },
    {
     "data": {
      "application/vnd.jupyter.widget-view+json": {
       "model_id": "bfa4778ee0124054bdb792fdd79d754c",
       "version_major": 2,
       "version_minor": 0
      },
      "text/plain": [
       "  0%|          | 0/150 [00:00<?, ?it/s]"
      ]
     },
     "metadata": {},
     "output_type": "display_data"
    },
    {
     "name": "stdout",
     "output_type": "stream",
     "text": [
      "Train loss:  1.2975244776407877\n"
     ]
    },
    {
     "data": {
      "application/vnd.jupyter.widget-view+json": {
       "model_id": "1e900a4d9c6d409a9cda03eea7cebe28",
       "version_major": 2,
       "version_minor": 0
      },
      "text/plain": [
       "  0%|          | 0/50 [00:00<?, ?it/s]"
      ]
     },
     "metadata": {},
     "output_type": "display_data"
    },
    {
     "name": "stdout",
     "output_type": "stream",
     "text": [
      "Valid loss:  1.6114860224723815\n",
      "Train Acc:  0.36030228939764397\n",
      "Valid Acc:  0.33999999999999997\n",
      "Epoch:  6\n"
     ]
    },
    {
     "data": {
      "application/vnd.jupyter.widget-view+json": {
       "model_id": "aceb1df33c234f699b21f7823df539a1",
       "version_major": 2,
       "version_minor": 0
      },
      "text/plain": [
       "  0%|          | 0/150 [00:00<?, ?it/s]"
      ]
     },
     "metadata": {},
     "output_type": "display_data"
    },
    {
     "name": "stdout",
     "output_type": "stream",
     "text": [
      "Train loss:  1.26489826242129\n"
     ]
    },
    {
     "data": {
      "application/vnd.jupyter.widget-view+json": {
       "model_id": "04d3efeb96324bb1999fa0609c1c7d11",
       "version_major": 2,
       "version_minor": 0
      },
      "text/plain": [
       "  0%|          | 0/50 [00:00<?, ?it/s]"
      ]
     },
     "metadata": {},
     "output_type": "display_data"
    },
    {
     "name": "stdout",
     "output_type": "stream",
     "text": [
      "Valid loss:  1.8956238865852355\n",
      "Train Acc:  0.29562124916648147\n",
      "Valid Acc:  0.21533333333333338\n",
      "Epoch:  7\n"
     ]
    },
    {
     "data": {
      "application/vnd.jupyter.widget-view+json": {
       "model_id": "d0370089521a409cb40d4f67d3a6aae2",
       "version_major": 2,
       "version_minor": 0
      },
      "text/plain": [
       "  0%|          | 0/150 [00:00<?, ?it/s]"
      ]
     },
     "metadata": {},
     "output_type": "display_data"
    },
    {
     "name": "stdout",
     "output_type": "stream",
     "text": [
      "Train loss:  1.2382457403341929\n"
     ]
    },
    {
     "data": {
      "application/vnd.jupyter.widget-view+json": {
       "model_id": "7683b829215b4cddb504c5c078ec439c",
       "version_major": 2,
       "version_minor": 0
      },
      "text/plain": [
       "  0%|          | 0/50 [00:00<?, ?it/s]"
      ]
     },
     "metadata": {},
     "output_type": "display_data"
    },
    {
     "name": "stdout",
     "output_type": "stream",
     "text": [
      "Valid loss:  2.0780932211875918\n",
      "Train Acc:  0.32985107801733715\n",
      "Valid Acc:  0.2386666666666667\n",
      "Epoch:  8\n"
     ]
    },
    {
     "data": {
      "application/vnd.jupyter.widget-view+json": {
       "model_id": "b7b888628b3e48c29876ef0b18b18c28",
       "version_major": 2,
       "version_minor": 0
      },
      "text/plain": [
       "  0%|          | 0/150 [00:00<?, ?it/s]"
      ]
     },
     "metadata": {},
     "output_type": "display_data"
    },
    {
     "name": "stdout",
     "output_type": "stream",
     "text": [
      "Train loss:  1.2331265266736349\n"
     ]
    },
    {
     "data": {
      "application/vnd.jupyter.widget-view+json": {
       "model_id": "f7fa122acd474527a99af83c971250f2",
       "version_major": 2,
       "version_minor": 0
      },
      "text/plain": [
       "  0%|          | 0/50 [00:00<?, ?it/s]"
      ]
     },
     "metadata": {},
     "output_type": "display_data"
    },
    {
     "name": "stdout",
     "output_type": "stream",
     "text": [
      "Valid loss:  1.497661530971527\n",
      "Train Acc:  0.4380973549677706\n",
      "Valid Acc:  0.33333333333333337\n",
      "Epoch:  9\n"
     ]
    },
    {
     "data": {
      "application/vnd.jupyter.widget-view+json": {
       "model_id": "788ab7d3ba8a493db643c8185810ae70",
       "version_major": 2,
       "version_minor": 0
      },
      "text/plain": [
       "  0%|          | 0/150 [00:00<?, ?it/s]"
      ]
     },
     "metadata": {},
     "output_type": "display_data"
    },
    {
     "name": "stdout",
     "output_type": "stream",
     "text": [
      "Train loss:  1.2281273782253266\n"
     ]
    },
    {
     "data": {
      "application/vnd.jupyter.widget-view+json": {
       "model_id": "4e01f88575114f468ffe2d8f5b742a63",
       "version_major": 2,
       "version_minor": 0
      },
      "text/plain": [
       "  0%|          | 0/50 [00:00<?, ?it/s]"
      ]
     },
     "metadata": {},
     "output_type": "display_data"
    },
    {
     "name": "stdout",
     "output_type": "stream",
     "text": [
      "Valid loss:  1.4442067790031432\n",
      "Train Acc:  0.45810180040008885\n",
      "Valid Acc:  0.3613333333333333\n",
      "Epoch:  10\n"
     ]
    },
    {
     "data": {
      "application/vnd.jupyter.widget-view+json": {
       "model_id": "8926ed728f6645518e3a12f1101ee625",
       "version_major": 2,
       "version_minor": 0
      },
      "text/plain": [
       "  0%|          | 0/150 [00:00<?, ?it/s]"
      ]
     },
     "metadata": {},
     "output_type": "display_data"
    },
    {
     "name": "stdout",
     "output_type": "stream",
     "text": [
      "Train loss:  1.1878935674826303\n"
     ]
    },
    {
     "data": {
      "application/vnd.jupyter.widget-view+json": {
       "model_id": "5ec4de081d444d16a3e272155aa0f738",
       "version_major": 2,
       "version_minor": 0
      },
      "text/plain": [
       "  0%|          | 0/50 [00:00<?, ?it/s]"
      ]
     },
     "metadata": {},
     "output_type": "display_data"
    },
    {
     "name": "stdout",
     "output_type": "stream",
     "text": [
      "Valid loss:  1.346625258922577\n",
      "Train Acc:  0.4821071349188708\n",
      "Valid Acc:  0.3606666666666667\n",
      "Epoch:  11\n"
     ]
    },
    {
     "data": {
      "application/vnd.jupyter.widget-view+json": {
       "model_id": "f56c6f84ae91435b9dd75eb0e7dd4b86",
       "version_major": 2,
       "version_minor": 0
      },
      "text/plain": [
       "  0%|          | 0/150 [00:00<?, ?it/s]"
      ]
     },
     "metadata": {},
     "output_type": "display_data"
    },
    {
     "name": "stdout",
     "output_type": "stream",
     "text": [
      "Train loss:  1.1617064170042675\n"
     ]
    },
    {
     "data": {
      "application/vnd.jupyter.widget-view+json": {
       "model_id": "8a83820091a94718b253406d2b3273b5",
       "version_major": 2,
       "version_minor": 0
      },
      "text/plain": [
       "  0%|          | 0/50 [00:00<?, ?it/s]"
      ]
     },
     "metadata": {},
     "output_type": "display_data"
    },
    {
     "name": "stdout",
     "output_type": "stream",
     "text": [
      "Valid loss:  1.426657223701477\n",
      "Train Acc:  0.4861080240053345\n",
      "Valid Acc:  0.3633333333333333\n",
      "Epoch:  12\n"
     ]
    },
    {
     "data": {
      "application/vnd.jupyter.widget-view+json": {
       "model_id": "3c0bd2518e0348d098fcabb22261c43f",
       "version_major": 2,
       "version_minor": 0
      },
      "text/plain": [
       "  0%|          | 0/150 [00:00<?, ?it/s]"
      ]
     },
     "metadata": {},
     "output_type": "display_data"
    },
    {
     "name": "stdout",
     "output_type": "stream",
     "text": [
      "Train loss:  1.1459665485223134\n"
     ]
    },
    {
     "data": {
      "application/vnd.jupyter.widget-view+json": {
       "model_id": "b7c96e63de3347649a232001c93920db",
       "version_major": 2,
       "version_minor": 0
      },
      "text/plain": [
       "  0%|          | 0/50 [00:00<?, ?it/s]"
      ]
     },
     "metadata": {},
     "output_type": "display_data"
    },
    {
     "name": "stdout",
     "output_type": "stream",
     "text": [
      "Valid loss:  1.401216950416565\n",
      "Train Acc:  0.46276950433429653\n",
      "Valid Acc:  0.3373333333333334\n",
      "Epoch:  13\n"
     ]
    },
    {
     "data": {
      "application/vnd.jupyter.widget-view+json": {
       "model_id": "b3b7f8938ce74b15a0f42b3f1703d98a",
       "version_major": 2,
       "version_minor": 0
      },
      "text/plain": [
       "  0%|          | 0/150 [00:00<?, ?it/s]"
      ]
     },
     "metadata": {},
     "output_type": "display_data"
    },
    {
     "name": "stdout",
     "output_type": "stream",
     "text": [
      "Train loss:  1.1202427168687186\n"
     ]
    },
    {
     "data": {
      "application/vnd.jupyter.widget-view+json": {
       "model_id": "0bb05f54458e4c108c932516c03c4491",
       "version_major": 2,
       "version_minor": 0
      },
      "text/plain": [
       "  0%|          | 0/50 [00:00<?, ?it/s]"
      ]
     },
     "metadata": {},
     "output_type": "display_data"
    },
    {
     "name": "stdout",
     "output_type": "stream",
     "text": [
      "Valid loss:  1.8339590430259705\n",
      "Train Acc:  0.37586130251166927\n",
      "Valid Acc:  0.2546666666666667\n",
      "Epoch:  14\n"
     ]
    },
    {
     "data": {
      "application/vnd.jupyter.widget-view+json": {
       "model_id": "031b724f09c3424898daf9b52330c7cd",
       "version_major": 2,
       "version_minor": 0
      },
      "text/plain": [
       "  0%|          | 0/150 [00:00<?, ?it/s]"
      ]
     },
     "metadata": {},
     "output_type": "display_data"
    },
    {
     "name": "stdout",
     "output_type": "stream",
     "text": [
      "Train loss:  1.1037058063348135\n"
     ]
    },
    {
     "data": {
      "application/vnd.jupyter.widget-view+json": {
       "model_id": "3ec4cdcb78014e1da00cdf645c1979ad",
       "version_major": 2,
       "version_minor": 0
      },
      "text/plain": [
       "  0%|          | 0/50 [00:00<?, ?it/s]"
      ]
     },
     "metadata": {},
     "output_type": "display_data"
    },
    {
     "name": "stdout",
     "output_type": "stream",
     "text": [
      "Valid loss:  1.690359854698181\n",
      "Train Acc:  0.3851967103800845\n",
      "Valid Acc:  0.23133333333333328\n",
      "Epoch:  15\n"
     ]
    },
    {
     "data": {
      "application/vnd.jupyter.widget-view+json": {
       "model_id": "fb320ab763a3422583f6d4a13e7202f1",
       "version_major": 2,
       "version_minor": 0
      },
      "text/plain": [
       "  0%|          | 0/150 [00:00<?, ?it/s]"
      ]
     },
     "metadata": {},
     "output_type": "display_data"
    },
    {
     "name": "stdout",
     "output_type": "stream",
     "text": [
      "Train loss:  1.088988075653712\n"
     ]
    },
    {
     "data": {
      "application/vnd.jupyter.widget-view+json": {
       "model_id": "bd6d1b36dacf4db19823a3125d265489",
       "version_major": 2,
       "version_minor": 0
      },
      "text/plain": [
       "  0%|          | 0/50 [00:00<?, ?it/s]"
      ]
     },
     "metadata": {},
     "output_type": "display_data"
    },
    {
     "name": "stdout",
     "output_type": "stream",
     "text": [
      "Valid loss:  1.5345539879798888\n",
      "Train Acc:  0.448544120915759\n",
      "Valid Acc:  0.28\n",
      "Epoch:  16\n"
     ]
    },
    {
     "data": {
      "application/vnd.jupyter.widget-view+json": {
       "model_id": "1ebf7f64d5894cbda43e917c0f196f6e",
       "version_major": 2,
       "version_minor": 0
      },
      "text/plain": [
       "  0%|          | 0/150 [00:00<?, ?it/s]"
      ]
     },
     "metadata": {},
     "output_type": "display_data"
    },
    {
     "name": "stdout",
     "output_type": "stream",
     "text": [
      "Train loss:  1.0843780577182769\n"
     ]
    },
    {
     "data": {
      "application/vnd.jupyter.widget-view+json": {
       "model_id": "eff39aa525c44a3e9859bfe8ba4a28c0",
       "version_major": 2,
       "version_minor": 0
      },
      "text/plain": [
       "  0%|          | 0/50 [00:00<?, ?it/s]"
      ]
     },
     "metadata": {},
     "output_type": "display_data"
    },
    {
     "name": "stdout",
     "output_type": "stream",
     "text": [
      "Valid loss:  1.5259414887428284\n",
      "Train Acc:  0.4158701933763058\n",
      "Valid Acc:  0.2846666666666666\n",
      "Epoch:  17\n"
     ]
    },
    {
     "data": {
      "application/vnd.jupyter.widget-view+json": {
       "model_id": "bff06d78a83b4acfb41dc8a42f3555e5",
       "version_major": 2,
       "version_minor": 0
      },
      "text/plain": [
       "  0%|          | 0/150 [00:00<?, ?it/s]"
      ]
     },
     "metadata": {},
     "output_type": "display_data"
    },
    {
     "name": "stdout",
     "output_type": "stream",
     "text": [
      "Train loss:  1.0558737802505493\n"
     ]
    },
    {
     "data": {
      "application/vnd.jupyter.widget-view+json": {
       "model_id": "ebcb764370f04955af9cb08f86be9238",
       "version_major": 2,
       "version_minor": 0
      },
      "text/plain": [
       "  0%|          | 0/50 [00:00<?, ?it/s]"
      ]
     },
     "metadata": {},
     "output_type": "display_data"
    },
    {
     "name": "stdout",
     "output_type": "stream",
     "text": [
      "Valid loss:  1.6311952233314515\n",
      "Train Acc:  0.4816625916870416\n",
      "Valid Acc:  0.29733333333333334\n",
      "Epoch:  18\n"
     ]
    },
    {
     "data": {
      "application/vnd.jupyter.widget-view+json": {
       "model_id": "9a55c4173eee4e2983fe6cb4b58ca33a",
       "version_major": 2,
       "version_minor": 0
      },
      "text/plain": [
       "  0%|          | 0/150 [00:00<?, ?it/s]"
      ]
     },
     "metadata": {},
     "output_type": "display_data"
    },
    {
     "name": "stdout",
     "output_type": "stream",
     "text": [
      "Train loss:  1.0405472822984059\n"
     ]
    },
    {
     "data": {
      "application/vnd.jupyter.widget-view+json": {
       "model_id": "afa6307fb68b4cb7bded31fe197155b8",
       "version_major": 2,
       "version_minor": 0
      },
      "text/plain": [
       "  0%|          | 0/50 [00:00<?, ?it/s]"
      ]
     },
     "metadata": {},
     "output_type": "display_data"
    },
    {
     "name": "stdout",
     "output_type": "stream",
     "text": [
      "Valid loss:  1.490461299419403\n",
      "Train Acc:  0.5163369637697266\n",
      "Valid Acc:  0.32666666666666666\n",
      "Epoch:  19\n"
     ]
    },
    {
     "data": {
      "application/vnd.jupyter.widget-view+json": {
       "model_id": "59d89fa31b62470c90e2eb715ad6d8e6",
       "version_major": 2,
       "version_minor": 0
      },
      "text/plain": [
       "  0%|          | 0/150 [00:00<?, ?it/s]"
      ]
     },
     "metadata": {},
     "output_type": "display_data"
    },
    {
     "name": "stdout",
     "output_type": "stream",
     "text": [
      "Train loss:  1.027328168551127\n"
     ]
    },
    {
     "data": {
      "application/vnd.jupyter.widget-view+json": {
       "model_id": "83f3c7e8f2384dd7813cd3a110d08de6",
       "version_major": 2,
       "version_minor": 0
      },
      "text/plain": [
       "  0%|          | 0/50 [00:00<?, ?it/s]"
      ]
     },
     "metadata": {},
     "output_type": "display_data"
    },
    {
     "name": "stdout",
     "output_type": "stream",
     "text": [
      "Valid loss:  1.539329948425293\n",
      "Train Acc:  0.5230051122471661\n",
      "Valid Acc:  0.346\n",
      "Epoch:  20\n"
     ]
    },
    {
     "data": {
      "application/vnd.jupyter.widget-view+json": {
       "model_id": "8e253e96368d4e3d9f3e153a51ac5ec2",
       "version_major": 2,
       "version_minor": 0
      },
      "text/plain": [
       "  0%|          | 0/150 [00:00<?, ?it/s]"
      ]
     },
     "metadata": {},
     "output_type": "display_data"
    },
    {
     "name": "stdout",
     "output_type": "stream",
     "text": [
      "Train loss:  1.0058836909135183\n"
     ]
    },
    {
     "data": {
      "application/vnd.jupyter.widget-view+json": {
       "model_id": "2847ee7949134bf893af884bb7a23717",
       "version_major": 2,
       "version_minor": 0
      },
      "text/plain": [
       "  0%|          | 0/50 [00:00<?, ?it/s]"
      ]
     },
     "metadata": {},
     "output_type": "display_data"
    },
    {
     "name": "stdout",
     "output_type": "stream",
     "text": [
      "Valid loss:  1.6500777053833007\n",
      "Train Acc:  0.524338741942654\n",
      "Valid Acc:  0.32466666666666666\n",
      "Epoch:  21\n"
     ]
    },
    {
     "data": {
      "application/vnd.jupyter.widget-view+json": {
       "model_id": "04f209f9322845538a5de560aaa9f5d0",
       "version_major": 2,
       "version_minor": 0
      },
      "text/plain": [
       "  0%|          | 0/150 [00:00<?, ?it/s]"
      ]
     },
     "metadata": {},
     "output_type": "display_data"
    },
    {
     "name": "stdout",
     "output_type": "stream",
     "text": [
      "Train loss:  0.9917138747374217\n"
     ]
    },
    {
     "data": {
      "application/vnd.jupyter.widget-view+json": {
       "model_id": "382b0c4da856405b952fa0e7975994d3",
       "version_major": 2,
       "version_minor": 0
      },
      "text/plain": [
       "  0%|          | 0/50 [00:00<?, ?it/s]"
      ]
     },
     "metadata": {},
     "output_type": "display_data"
    },
    {
     "name": "stdout",
     "output_type": "stream",
     "text": [
      "Valid loss:  1.8267092967033387\n",
      "Train Acc:  0.5176705934652145\n",
      "Valid Acc:  0.3406666666666667\n",
      "Epoch:  22\n"
     ]
    },
    {
     "data": {
      "application/vnd.jupyter.widget-view+json": {
       "model_id": "8989245881e5468ab5848b1368d41917",
       "version_major": 2,
       "version_minor": 0
      },
      "text/plain": [
       "  0%|          | 0/150 [00:00<?, ?it/s]"
      ]
     },
     "metadata": {},
     "output_type": "display_data"
    },
    {
     "name": "stdout",
     "output_type": "stream",
     "text": [
      "Train loss:  0.990708532333374\n"
     ]
    },
    {
     "data": {
      "application/vnd.jupyter.widget-view+json": {
       "model_id": "e5377ce2cf3f449793ddc18682fe7634",
       "version_major": 2,
       "version_minor": 0
      },
      "text/plain": [
       "  0%|          | 0/50 [00:00<?, ?it/s]"
      ]
     },
     "metadata": {},
     "output_type": "display_data"
    },
    {
     "name": "stdout",
     "output_type": "stream",
     "text": [
      "Valid loss:  1.6936945772171021\n",
      "Train Acc:  0.5650144476550345\n",
      "Valid Acc:  0.352\n",
      "Epoch:  23\n"
     ]
    },
    {
     "data": {
      "application/vnd.jupyter.widget-view+json": {
       "model_id": "2a7e7f31be174859a41362ea25f8070d",
       "version_major": 2,
       "version_minor": 0
      },
      "text/plain": [
       "  0%|          | 0/150 [00:00<?, ?it/s]"
      ]
     },
     "metadata": {},
     "output_type": "display_data"
    },
    {
     "name": "stdout",
     "output_type": "stream",
     "text": [
      "Train loss:  0.9623689925670624\n"
     ]
    },
    {
     "data": {
      "application/vnd.jupyter.widget-view+json": {
       "model_id": "d0f03f1676504055ab5e16e7a4174b4f",
       "version_major": 2,
       "version_minor": 0
      },
      "text/plain": [
       "  0%|          | 0/50 [00:00<?, ?it/s]"
      ]
     },
     "metadata": {},
     "output_type": "display_data"
    },
    {
     "name": "stdout",
     "output_type": "stream",
     "text": [
      "Valid loss:  1.6594575142860413\n",
      "Train Acc:  0.5907979551011335\n",
      "Valid Acc:  0.3446666666666667\n",
      "Epoch:  24\n"
     ]
    },
    {
     "data": {
      "application/vnd.jupyter.widget-view+json": {
       "model_id": "a2dfee5423c2467baae8710f84bd5341",
       "version_major": 2,
       "version_minor": 0
      },
      "text/plain": [
       "  0%|          | 0/150 [00:00<?, ?it/s]"
      ]
     },
     "metadata": {},
     "output_type": "display_data"
    },
    {
     "name": "stdout",
     "output_type": "stream",
     "text": [
      "Train loss:  0.9525669074058533\n"
     ]
    },
    {
     "data": {
      "application/vnd.jupyter.widget-view+json": {
       "model_id": "4a77e96d481441d1b7479bc992a21d99",
       "version_major": 2,
       "version_minor": 0
      },
      "text/plain": [
       "  0%|          | 0/50 [00:00<?, ?it/s]"
      ]
     },
     "metadata": {},
     "output_type": "display_data"
    },
    {
     "name": "stdout",
     "output_type": "stream",
     "text": [
      "Valid loss:  1.7445654940605164\n",
      "Train Acc:  0.5796843743054012\n",
      "Valid Acc:  0.3873333333333333\n",
      "Epoch:  25\n"
     ]
    },
    {
     "data": {
      "application/vnd.jupyter.widget-view+json": {
       "model_id": "5a42e57e6d25462c9545eed2fb40c35b",
       "version_major": 2,
       "version_minor": 0
      },
      "text/plain": [
       "  0%|          | 0/150 [00:00<?, ?it/s]"
      ]
     },
     "metadata": {},
     "output_type": "display_data"
    },
    {
     "name": "stdout",
     "output_type": "stream",
     "text": [
      "Train loss:  0.9145767796039581\n"
     ]
    },
    {
     "data": {
      "application/vnd.jupyter.widget-view+json": {
       "model_id": "b3b79e438f7948329f069be80a72faaf",
       "version_major": 2,
       "version_minor": 0
      },
      "text/plain": [
       "  0%|          | 0/50 [00:00<?, ?it/s]"
      ]
     },
     "metadata": {},
     "output_type": "display_data"
    },
    {
     "name": "stdout",
     "output_type": "stream",
     "text": [
      "Valid loss:  1.7343821430206299\n",
      "Train Acc:  0.5999110913536341\n",
      "Valid Acc:  0.3946666666666667\n",
      "Epoch:  26\n"
     ]
    },
    {
     "data": {
      "application/vnd.jupyter.widget-view+json": {
       "model_id": "75e643c4641f462d8683310193507224",
       "version_major": 2,
       "version_minor": 0
      },
      "text/plain": [
       "  0%|          | 0/150 [00:00<?, ?it/s]"
      ]
     },
     "metadata": {},
     "output_type": "display_data"
    },
    {
     "name": "stdout",
     "output_type": "stream",
     "text": [
      "Train loss:  0.8947405707836151\n"
     ]
    },
    {
     "data": {
      "application/vnd.jupyter.widget-view+json": {
       "model_id": "87eca2891de74292b19f4c2cda4ec404",
       "version_major": 2,
       "version_minor": 0
      },
      "text/plain": [
       "  0%|          | 0/50 [00:00<?, ?it/s]"
      ]
     },
     "metadata": {},
     "output_type": "display_data"
    },
    {
     "name": "stdout",
     "output_type": "stream",
     "text": [
      "Valid loss:  1.7576428198814391\n",
      "Train Acc:  0.6121360302289398\n",
      "Valid Acc:  0.3866666666666667\n",
      "Epoch:  27\n"
     ]
    },
    {
     "data": {
      "application/vnd.jupyter.widget-view+json": {
       "model_id": "ef7d44fabb5d4ea28fa8dc9cd5231c1b",
       "version_major": 2,
       "version_minor": 0
      },
      "text/plain": [
       "  0%|          | 0/150 [00:00<?, ?it/s]"
      ]
     },
     "metadata": {},
     "output_type": "display_data"
    },
    {
     "name": "stdout",
     "output_type": "stream",
     "text": [
      "Train loss:  0.886775058110555\n"
     ]
    },
    {
     "data": {
      "application/vnd.jupyter.widget-view+json": {
       "model_id": "d203b3207cc740f0ad6d6ae3943ddda8",
       "version_major": 2,
       "version_minor": 0
      },
      "text/plain": [
       "  0%|          | 0/50 [00:00<?, ?it/s]"
      ]
     },
     "metadata": {},
     "output_type": "display_data"
    },
    {
     "name": "stdout",
     "output_type": "stream",
     "text": [
      "Valid loss:  1.876695189476013\n",
      "Train Acc:  0.6363636363636364\n",
      "Valid Acc:  0.41866666666666663\n",
      "Epoch:  28\n"
     ]
    },
    {
     "data": {
      "application/vnd.jupyter.widget-view+json": {
       "model_id": "34b211cba4524019ab734d82c9eb8d04",
       "version_major": 2,
       "version_minor": 0
      },
      "text/plain": [
       "  0%|          | 0/150 [00:00<?, ?it/s]"
      ]
     },
     "metadata": {},
     "output_type": "display_data"
    },
    {
     "name": "stdout",
     "output_type": "stream",
     "text": [
      "Train loss:  0.8565589151779811\n"
     ]
    },
    {
     "data": {
      "application/vnd.jupyter.widget-view+json": {
       "model_id": "56ff98f955ad48009fb029e522e51f96",
       "version_major": 2,
       "version_minor": 0
      },
      "text/plain": [
       "  0%|          | 0/50 [00:00<?, ?it/s]"
      ]
     },
     "metadata": {},
     "output_type": "display_data"
    },
    {
     "name": "stdout",
     "output_type": "stream",
     "text": [
      "Valid loss:  2.378542699813843\n",
      "Train Acc:  0.5163369637697266\n",
      "Valid Acc:  0.266\n",
      "Epoch:  29\n"
     ]
    },
    {
     "data": {
      "application/vnd.jupyter.widget-view+json": {
       "model_id": "60db5a9b4d064d7a90823ac6f678aab7",
       "version_major": 2,
       "version_minor": 0
      },
      "text/plain": [
       "  0%|          | 0/150 [00:00<?, ?it/s]"
      ]
     },
     "metadata": {},
     "output_type": "display_data"
    },
    {
     "name": "stdout",
     "output_type": "stream",
     "text": [
      "Train loss:  0.8490826034545899\n"
     ]
    },
    {
     "data": {
      "application/vnd.jupyter.widget-view+json": {
       "model_id": "dd33fc6632ff4f0891ece1bea51501ee",
       "version_major": 2,
       "version_minor": 0
      },
      "text/plain": [
       "  0%|          | 0/50 [00:00<?, ?it/s]"
      ]
     },
     "metadata": {},
     "output_type": "display_data"
    },
    {
     "name": "stdout",
     "output_type": "stream",
     "text": [
      "Valid loss:  1.789910111427307\n",
      "Train Acc:  0.60880195599022\n",
      "Valid Acc:  0.394\n",
      "Epoch:  30\n"
     ]
    },
    {
     "data": {
      "application/vnd.jupyter.widget-view+json": {
       "model_id": "0574e9de971c441cb01e50ba779491b4",
       "version_major": 2,
       "version_minor": 0
      },
      "text/plain": [
       "  0%|          | 0/150 [00:00<?, ?it/s]"
      ]
     },
     "metadata": {},
     "output_type": "display_data"
    },
    {
     "name": "stdout",
     "output_type": "stream",
     "text": [
      "Train loss:  0.8380772260824839\n"
     ]
    },
    {
     "data": {
      "application/vnd.jupyter.widget-view+json": {
       "model_id": "4e474e9048d84252b33132b7021d8f69",
       "version_major": 2,
       "version_minor": 0
      },
      "text/plain": [
       "  0%|          | 0/50 [00:00<?, ?it/s]"
      ]
     },
     "metadata": {},
     "output_type": "display_data"
    },
    {
     "name": "stdout",
     "output_type": "stream",
     "text": [
      "Valid loss:  2.1277455425262453\n",
      "Train Acc:  0.5872416092464992\n",
      "Valid Acc:  0.33599999999999997\n",
      "Epoch:  31\n"
     ]
    },
    {
     "data": {
      "application/vnd.jupyter.widget-view+json": {
       "model_id": "23a057b3d8ef4137a7e24738a6638412",
       "version_major": 2,
       "version_minor": 0
      },
      "text/plain": [
       "  0%|          | 0/150 [00:00<?, ?it/s]"
      ]
     },
     "metadata": {},
     "output_type": "display_data"
    },
    {
     "name": "stdout",
     "output_type": "stream",
     "text": [
      "Train loss:  0.8091286132733028\n"
     ]
    },
    {
     "data": {
      "application/vnd.jupyter.widget-view+json": {
       "model_id": "ea51755a995d427580c3c807f976fc4e",
       "version_major": 2,
       "version_minor": 0
      },
      "text/plain": [
       "  0%|          | 0/50 [00:00<?, ?it/s]"
      ]
     },
     "metadata": {},
     "output_type": "display_data"
    },
    {
     "name": "stdout",
     "output_type": "stream",
     "text": [
      "Valid loss:  2.017629461288452\n",
      "Train Acc:  0.612580573460769\n",
      "Valid Acc:  0.3733333333333333\n",
      "Epoch:  32\n"
     ]
    },
    {
     "data": {
      "application/vnd.jupyter.widget-view+json": {
       "model_id": "a63b9214c21a4f99953036b3854fe421",
       "version_major": 2,
       "version_minor": 0
      },
      "text/plain": [
       "  0%|          | 0/150 [00:00<?, ?it/s]"
      ]
     },
     "metadata": {},
     "output_type": "display_data"
    },
    {
     "name": "stdout",
     "output_type": "stream",
     "text": [
      "Train loss:  0.8186442104975382\n"
     ]
    },
    {
     "data": {
      "application/vnd.jupyter.widget-view+json": {
       "model_id": "45f41bf80c2b46eeab31deed733e2206",
       "version_major": 2,
       "version_minor": 0
      },
      "text/plain": [
       "  0%|          | 0/50 [00:00<?, ?it/s]"
      ]
     },
     "metadata": {},
     "output_type": "display_data"
    },
    {
     "name": "stdout",
     "output_type": "stream",
     "text": [
      "Valid loss:  1.8295022940635681\n",
      "Train Acc:  0.6908201822627251\n",
      "Valid Acc:  0.3666666666666667\n",
      "Epoch:  33\n"
     ]
    },
    {
     "data": {
      "application/vnd.jupyter.widget-view+json": {
       "model_id": "9b84207c37b74346b894abeb7d1255fe",
       "version_major": 2,
       "version_minor": 0
      },
      "text/plain": [
       "  0%|          | 0/150 [00:00<?, ?it/s]"
      ]
     },
     "metadata": {},
     "output_type": "display_data"
    },
    {
     "name": "stdout",
     "output_type": "stream",
     "text": [
      "Train loss:  0.7708126006523768\n"
     ]
    },
    {
     "data": {
      "application/vnd.jupyter.widget-view+json": {
       "model_id": "70f121b11e0c457e91191055c11a7e5d",
       "version_major": 2,
       "version_minor": 0
      },
      "text/plain": [
       "  0%|          | 0/50 [00:00<?, ?it/s]"
      ]
     },
     "metadata": {},
     "output_type": "display_data"
    },
    {
     "name": "stdout",
     "output_type": "stream",
     "text": [
      "Valid loss:  2.1564510107040404\n",
      "Train Acc:  0.6456990442320516\n",
      "Valid Acc:  0.32933333333333337\n",
      "Epoch:  34\n"
     ]
    },
    {
     "data": {
      "application/vnd.jupyter.widget-view+json": {
       "model_id": "2ee6dce4405b4d2abd8f29704d4b3041",
       "version_major": 2,
       "version_minor": 0
      },
      "text/plain": [
       "  0%|          | 0/150 [00:00<?, ?it/s]"
      ]
     },
     "metadata": {},
     "output_type": "display_data"
    },
    {
     "name": "stdout",
     "output_type": "stream",
     "text": [
      "Train loss:  0.7804632437229156\n"
     ]
    },
    {
     "data": {
      "application/vnd.jupyter.widget-view+json": {
       "model_id": "240ec771923746d7a77a13e6ef4b5fdd",
       "version_major": 2,
       "version_minor": 0
      },
      "text/plain": [
       "  0%|          | 0/50 [00:00<?, ?it/s]"
      ]
     },
     "metadata": {},
     "output_type": "display_data"
    },
    {
     "name": "stdout",
     "output_type": "stream",
     "text": [
      "Valid loss:  2.0354213547706603\n",
      "Train Acc:  0.6968215158924205\n",
      "Valid Acc:  0.386\n",
      "Epoch:  35\n"
     ]
    },
    {
     "data": {
      "application/vnd.jupyter.widget-view+json": {
       "model_id": "e97a542d8b8f4aa8b9eaf2c8f4393fa7",
       "version_major": 2,
       "version_minor": 0
      },
      "text/plain": [
       "  0%|          | 0/150 [00:00<?, ?it/s]"
      ]
     },
     "metadata": {},
     "output_type": "display_data"
    },
    {
     "name": "stdout",
     "output_type": "stream",
     "text": [
      "Train loss:  0.7507492490609486\n"
     ]
    },
    {
     "data": {
      "application/vnd.jupyter.widget-view+json": {
       "model_id": "6cc1dc93c50942dead5afac338120d5e",
       "version_major": 2,
       "version_minor": 0
      },
      "text/plain": [
       "  0%|          | 0/50 [00:00<?, ?it/s]"
      ]
     },
     "metadata": {},
     "output_type": "display_data"
    },
    {
     "name": "stdout",
     "output_type": "stream",
     "text": [
      "Valid loss:  2.0492641806602476\n",
      "Train Acc:  0.6854856634807736\n",
      "Valid Acc:  0.43333333333333335\n",
      "Epoch:  36\n"
     ]
    },
    {
     "data": {
      "application/vnd.jupyter.widget-view+json": {
       "model_id": "135d905cb1e0413db9f16b6e36cc1958",
       "version_major": 2,
       "version_minor": 0
      },
      "text/plain": [
       "  0%|          | 0/150 [00:00<?, ?it/s]"
      ]
     },
     "metadata": {},
     "output_type": "display_data"
    },
    {
     "name": "stdout",
     "output_type": "stream",
     "text": [
      "Train loss:  0.7308105840285619\n"
     ]
    },
    {
     "data": {
      "application/vnd.jupyter.widget-view+json": {
       "model_id": "21acb2d78b3b4e13a8dfed101a452c1e",
       "version_major": 2,
       "version_minor": 0
      },
      "text/plain": [
       "  0%|          | 0/50 [00:00<?, ?it/s]"
      ]
     },
     "metadata": {},
     "output_type": "display_data"
    },
    {
     "name": "stdout",
     "output_type": "stream",
     "text": [
      "Valid loss:  2.193762683868408\n",
      "Train Acc:  0.6510335630140032\n",
      "Valid Acc:  0.3746666666666667\n",
      "Epoch:  37\n"
     ]
    },
    {
     "data": {
      "application/vnd.jupyter.widget-view+json": {
       "model_id": "c041c1fac4c84642b2ff423422c256c4",
       "version_major": 2,
       "version_minor": 0
      },
      "text/plain": [
       "  0%|          | 0/150 [00:00<?, ?it/s]"
      ]
     },
     "metadata": {},
     "output_type": "display_data"
    },
    {
     "name": "stdout",
     "output_type": "stream",
     "text": [
      "Train loss:  0.7533173807462057\n"
     ]
    },
    {
     "data": {
      "application/vnd.jupyter.widget-view+json": {
       "model_id": "cc0576bb6ad44ed1ad480e714e086264",
       "version_major": 2,
       "version_minor": 0
      },
      "text/plain": [
       "  0%|          | 0/50 [00:00<?, ?it/s]"
      ]
     },
     "metadata": {},
     "output_type": "display_data"
    },
    {
     "name": "stdout",
     "output_type": "stream",
     "text": [
      "Valid loss:  2.041401484012604\n",
      "Train Acc:  0.7057123805290064\n",
      "Valid Acc:  0.3466666666666667\n",
      "Epoch:  38\n"
     ]
    },
    {
     "data": {
      "application/vnd.jupyter.widget-view+json": {
       "model_id": "db4ae648356b43de806db0c8cad261d7",
       "version_major": 2,
       "version_minor": 0
      },
      "text/plain": [
       "  0%|          | 0/150 [00:00<?, ?it/s]"
      ]
     },
     "metadata": {},
     "output_type": "display_data"
    },
    {
     "name": "stdout",
     "output_type": "stream",
     "text": [
      "Train loss:  0.6983560878038406\n"
     ]
    },
    {
     "data": {
      "application/vnd.jupyter.widget-view+json": {
       "model_id": "c37a621f56da4876a4a0c239b267f2a9",
       "version_major": 2,
       "version_minor": 0
      },
      "text/plain": [
       "  0%|          | 0/50 [00:00<?, ?it/s]"
      ]
     },
     "metadata": {},
     "output_type": "display_data"
    },
    {
     "name": "stdout",
     "output_type": "stream",
     "text": [
      "Valid loss:  2.099610753059387\n",
      "Train Acc:  0.7010446765947989\n",
      "Valid Acc:  0.3606666666666667\n",
      "Epoch:  39\n"
     ]
    },
    {
     "data": {
      "application/vnd.jupyter.widget-view+json": {
       "model_id": "daae853202fc4e1f83d60d82feba139e",
       "version_major": 2,
       "version_minor": 0
      },
      "text/plain": [
       "  0%|          | 0/150 [00:00<?, ?it/s]"
      ]
     },
     "metadata": {},
     "output_type": "display_data"
    },
    {
     "name": "stdout",
     "output_type": "stream",
     "text": [
      "Train loss:  0.6919824635982513\n"
     ]
    },
    {
     "data": {
      "application/vnd.jupyter.widget-view+json": {
       "model_id": "8612aa4ccabd4506a7b9a41d4ab89171",
       "version_major": 2,
       "version_minor": 0
      },
      "text/plain": [
       "  0%|          | 0/50 [00:00<?, ?it/s]"
      ]
     },
     "metadata": {},
     "output_type": "display_data"
    },
    {
     "name": "stdout",
     "output_type": "stream",
     "text": [
      "Valid loss:  2.0693003225326536\n",
      "Train Acc:  0.7570571238052901\n",
      "Valid Acc:  0.3926666666666667\n",
      "Epoch:  40\n"
     ]
    },
    {
     "data": {
      "application/vnd.jupyter.widget-view+json": {
       "model_id": "973d7299fa824d0ebac60e000728338d",
       "version_major": 2,
       "version_minor": 0
      },
      "text/plain": [
       "  0%|          | 0/150 [00:00<?, ?it/s]"
      ]
     },
     "metadata": {},
     "output_type": "display_data"
    },
    {
     "name": "stdout",
     "output_type": "stream",
     "text": [
      "Train loss:  0.655324343641599\n"
     ]
    },
    {
     "data": {
      "application/vnd.jupyter.widget-view+json": {
       "model_id": "8409de5ae23f43fda799ee8107b9efc7",
       "version_major": 2,
       "version_minor": 0
      },
      "text/plain": [
       "  0%|          | 0/50 [00:00<?, ?it/s]"
      ]
     },
     "metadata": {},
     "output_type": "display_data"
    },
    {
     "name": "stdout",
     "output_type": "stream",
     "text": [
      "Valid loss:  2.205893461704254\n",
      "Train Acc:  0.7428317403867526\n",
      "Valid Acc:  0.3646666666666667\n",
      "Epoch:  41\n"
     ]
    },
    {
     "data": {
      "application/vnd.jupyter.widget-view+json": {
       "model_id": "21eb7a8cc62447949468ab9093a7a430",
       "version_major": 2,
       "version_minor": 0
      },
      "text/plain": [
       "  0%|          | 0/150 [00:00<?, ?it/s]"
      ]
     },
     "metadata": {},
     "output_type": "display_data"
    },
    {
     "name": "stdout",
     "output_type": "stream",
     "text": [
      "Train loss:  0.6513758820295333\n"
     ]
    },
    {
     "data": {
      "application/vnd.jupyter.widget-view+json": {
       "model_id": "f5a9b5dcfb144981a8501269e6a94f91",
       "version_major": 2,
       "version_minor": 0
      },
      "text/plain": [
       "  0%|          | 0/50 [00:00<?, ?it/s]"
      ]
     },
     "metadata": {},
     "output_type": "display_data"
    },
    {
     "name": "stdout",
     "output_type": "stream",
     "text": [
      "Valid loss:  2.3631000828742983\n",
      "Train Acc:  0.7119359857746166\n",
      "Valid Acc:  0.3793333333333333\n",
      "Epoch:  42\n"
     ]
    },
    {
     "data": {
      "application/vnd.jupyter.widget-view+json": {
       "model_id": "bf7522001aaa4c168d07a92c3a67e3f8",
       "version_major": 2,
       "version_minor": 0
      },
      "text/plain": [
       "  0%|          | 0/150 [00:00<?, ?it/s]"
      ]
     },
     "metadata": {},
     "output_type": "display_data"
    },
    {
     "name": "stdout",
     "output_type": "stream",
     "text": [
      "Train loss:  0.630324111978213\n"
     ]
    },
    {
     "data": {
      "application/vnd.jupyter.widget-view+json": {
       "model_id": "c098f66a398a406880a8a8df9d22765b",
       "version_major": 2,
       "version_minor": 0
      },
      "text/plain": [
       "  0%|          | 0/50 [00:00<?, ?it/s]"
      ]
     },
     "metadata": {},
     "output_type": "display_data"
    },
    {
     "name": "stdout",
     "output_type": "stream",
     "text": [
      "Valid loss:  2.399344215393066\n",
      "Train Acc:  0.7695043342965103\n",
      "Valid Acc:  0.398\n",
      "Epoch:  43\n"
     ]
    },
    {
     "data": {
      "application/vnd.jupyter.widget-view+json": {
       "model_id": "b955ec43efc446dda40c35c9854f69e9",
       "version_major": 2,
       "version_minor": 0
      },
      "text/plain": [
       "  0%|          | 0/150 [00:00<?, ?it/s]"
      ]
     },
     "metadata": {},
     "output_type": "display_data"
    },
    {
     "name": "stdout",
     "output_type": "stream",
     "text": [
      "Train loss:  0.6231569457054138\n"
     ]
    },
    {
     "data": {
      "application/vnd.jupyter.widget-view+json": {
       "model_id": "13b6bd37692a4246979c5f644f266598",
       "version_major": 2,
       "version_minor": 0
      },
      "text/plain": [
       "  0%|          | 0/50 [00:00<?, ?it/s]"
      ]
     },
     "metadata": {},
     "output_type": "display_data"
    },
    {
     "name": "stdout",
     "output_type": "stream",
     "text": [
      "Valid loss:  2.4369830894470215\n",
      "Train Acc:  0.7795065570126695\n",
      "Valid Acc:  0.374\n",
      "Epoch:  44\n"
     ]
    },
    {
     "data": {
      "application/vnd.jupyter.widget-view+json": {
       "model_id": "815c884da1c649788ec2a84a8920644e",
       "version_major": 2,
       "version_minor": 0
      },
      "text/plain": [
       "  0%|          | 0/150 [00:00<?, ?it/s]"
      ]
     },
     "metadata": {},
     "output_type": "display_data"
    },
    {
     "name": "stdout",
     "output_type": "stream",
     "text": [
      "Train loss:  0.6108760396639507\n"
     ]
    },
    {
     "data": {
      "application/vnd.jupyter.widget-view+json": {
       "model_id": "2c70411fbbf242c49d721f9134b98bfe",
       "version_major": 2,
       "version_minor": 0
      },
      "text/plain": [
       "  0%|          | 0/50 [00:00<?, ?it/s]"
      ]
     },
     "metadata": {},
     "output_type": "display_data"
    },
    {
     "name": "stdout",
     "output_type": "stream",
     "text": [
      "Valid loss:  2.5330039262771606\n",
      "Train Acc:  0.7715047788397422\n",
      "Valid Acc:  0.3846666666666667\n",
      "Epoch:  45\n"
     ]
    },
    {
     "data": {
      "application/vnd.jupyter.widget-view+json": {
       "model_id": "545fab3ae4f149c1bf24ba9cf3b1e901",
       "version_major": 2,
       "version_minor": 0
      },
      "text/plain": [
       "  0%|          | 0/150 [00:00<?, ?it/s]"
      ]
     },
     "metadata": {},
     "output_type": "display_data"
    },
    {
     "name": "stdout",
     "output_type": "stream",
     "text": [
      "Train loss:  0.5968422867854436\n"
     ]
    },
    {
     "data": {
      "application/vnd.jupyter.widget-view+json": {
       "model_id": "efd33292971944a9b0d9f5efca52e3a9",
       "version_major": 2,
       "version_minor": 0
      },
      "text/plain": [
       "  0%|          | 0/50 [00:00<?, ?it/s]"
      ]
     },
     "metadata": {},
     "output_type": "display_data"
    },
    {
     "name": "stdout",
     "output_type": "stream",
     "text": [
      "Valid loss:  2.3584816551208494\n",
      "Train Acc:  0.7966214714380974\n",
      "Valid Acc:  0.3986666666666666\n",
      "Epoch:  46\n"
     ]
    },
    {
     "data": {
      "application/vnd.jupyter.widget-view+json": {
       "model_id": "f39a3913380d4768a100a4dbd42663c3",
       "version_major": 2,
       "version_minor": 0
      },
      "text/plain": [
       "  0%|          | 0/150 [00:00<?, ?it/s]"
      ]
     },
     "metadata": {},
     "output_type": "display_data"
    },
    {
     "name": "stdout",
     "output_type": "stream",
     "text": [
      "Train loss:  0.5610472356279691\n"
     ]
    },
    {
     "data": {
      "application/vnd.jupyter.widget-view+json": {
       "model_id": "048696dd1eb8460bb89e5d7c10793d9b",
       "version_major": 2,
       "version_minor": 0
      },
      "text/plain": [
       "  0%|          | 0/50 [00:00<?, ?it/s]"
      ]
     },
     "metadata": {},
     "output_type": "display_data"
    },
    {
     "name": "stdout",
     "output_type": "stream",
     "text": [
      "Valid loss:  2.593805630207062\n",
      "Train Acc:  0.8108468548566348\n",
      "Valid Acc:  0.4033333333333333\n",
      "Epoch:  47\n"
     ]
    },
    {
     "data": {
      "application/vnd.jupyter.widget-view+json": {
       "model_id": "028ece8f28a34a4dac267bddd7cc425a",
       "version_major": 2,
       "version_minor": 0
      },
      "text/plain": [
       "  0%|          | 0/150 [00:00<?, ?it/s]"
      ]
     },
     "metadata": {},
     "output_type": "display_data"
    },
    {
     "name": "stdout",
     "output_type": "stream",
     "text": [
      "Train loss:  0.5559165655573209\n"
     ]
    },
    {
     "data": {
      "application/vnd.jupyter.widget-view+json": {
       "model_id": "ac407864c14146f9a11479345d8e2692",
       "version_major": 2,
       "version_minor": 0
      },
      "text/plain": [
       "  0%|          | 0/50 [00:00<?, ?it/s]"
      ]
     },
     "metadata": {},
     "output_type": "display_data"
    },
    {
     "name": "stdout",
     "output_type": "stream",
     "text": [
      "Valid loss:  2.6525857281684875\n",
      "Train Acc:  0.7850633474105357\n",
      "Valid Acc:  0.3766666666666667\n",
      "Epoch:  48\n"
     ]
    },
    {
     "data": {
      "application/vnd.jupyter.widget-view+json": {
       "model_id": "ffd675619f8a4210a8c90b053d8f5529",
       "version_major": 2,
       "version_minor": 0
      },
      "text/plain": [
       "  0%|          | 0/150 [00:00<?, ?it/s]"
      ]
     },
     "metadata": {},
     "output_type": "display_data"
    },
    {
     "name": "stdout",
     "output_type": "stream",
     "text": [
      "Train loss:  0.5629213270545006\n"
     ]
    },
    {
     "data": {
      "application/vnd.jupyter.widget-view+json": {
       "model_id": "a8b840767f0c46bfb6f49c5a45b56dbd",
       "version_major": 2,
       "version_minor": 0
      },
      "text/plain": [
       "  0%|          | 0/50 [00:00<?, ?it/s]"
      ]
     },
     "metadata": {},
     "output_type": "display_data"
    },
    {
     "name": "stdout",
     "output_type": "stream",
     "text": [
      "Valid loss:  2.704481828212738\n",
      "Train Acc:  0.8215158924205379\n",
      "Valid Acc:  0.406\n",
      "Epoch:  49\n"
     ]
    },
    {
     "data": {
      "application/vnd.jupyter.widget-view+json": {
       "model_id": "97a5dc90f25b48e5bee593efd84c7d9a",
       "version_major": 2,
       "version_minor": 0
      },
      "text/plain": [
       "  0%|          | 0/150 [00:00<?, ?it/s]"
      ]
     },
     "metadata": {},
     "output_type": "display_data"
    },
    {
     "name": "stdout",
     "output_type": "stream",
     "text": [
      "Train loss:  0.5320802513758341\n"
     ]
    },
    {
     "data": {
      "application/vnd.jupyter.widget-view+json": {
       "model_id": "a932413369774aba95444edcfb633ded",
       "version_major": 2,
       "version_minor": 0
      },
      "text/plain": [
       "  0%|          | 0/50 [00:00<?, ?it/s]"
      ]
     },
     "metadata": {},
     "output_type": "display_data"
    },
    {
     "name": "stdout",
     "output_type": "stream",
     "text": [
      "Valid loss:  2.7651239085197448\n",
      "Train Acc:  0.8124027561680374\n",
      "Valid Acc:  0.41200000000000003\n"
     ]
    }
   ],
   "source": [
    "from tqdm.notebook import tqdm\n",
    "\n",
    "model = models.resnet18(pretrained=True)\n",
    "model.fc = nn.Linear(512, 4, bias=True)\n",
    "num_layers = len(list(model.named_parameters()))\n",
    "device = torch.device(0)\n",
    "model.to(device)\n",
    "\n",
    "lossFun = nn.CrossEntropyLoss()\n",
    "\n",
    "params_to_update = []\n",
    "\n",
    "for param in model.parameters():\n",
    "    if param.requires_grad == True:\n",
    "        params_to_update.append(param)\n",
    "        \n",
    "optimizer = optim.AdamW(params_to_update, lr=.1)\n",
    "\n",
    "num_epochs = 50\n",
    "train_losses = []\n",
    "train_accs = []\n",
    "valid_losses = []\n",
    "valid_accs = []\n",
    "\n",
    "iterations = num_epochs*len(dl_train)\n",
    "lrs = get_cosine_triangular_lr(max_lr=0.01, iterations=iterations)\n",
    "idx = 0\n",
    "\n",
    "for i, epoch in tqdm(enumerate(range(num_epochs))):\n",
    "    print('Epoch: ', epoch)\n",
    "    \n",
    "    \n",
    "    optimizer = update_grads(model, i, num_epochs)\n",
    "    \n",
    "    train_loss, idx = one_pass(model, dl_train, optimizer, lossFun, lrs=lrs, idx=idx)\n",
    "    train_losses.append(train_loss)\n",
    "    print('Train loss: ', train_loss)\n",
    "    \n",
    "    valid_loss, idx = one_pass(model, dl_valid, optimizer, lossFun, lrs=None, idx=idx, backwards=False)\n",
    "    valid_losses.append(valid_loss)\n",
    "    print('Valid loss: ', valid_loss)\n",
    "    \n",
    "    train_acc = one_pass_acc(model, dl_train, len(ds_train))\n",
    "    valid_acc = one_pass_acc(model, dl_valid, len(ds_valid))\n",
    "    print('Train Acc: ', train_acc)\n",
    "    print('Valid Acc: ', valid_acc)\n",
    "    \n",
    "    train_losses.append(train_loss)\n",
    "    train_accs.append(train_acc)\n",
    "    valid_losses.append(valid_loss)\n",
    "    valid_accs.append(valid_acc)\n",
    "    \n",
    "    # Save model for the epoch\n",
    "    model_name = f'models/{directory}/{today}_epoch_{epoch}_tacc_{train_acc:.2f}_vacc_{valid_acc:.2f}.pkl'\n",
    "    pickle.dump(model, open(model_name, 'wb'))\n",
    "    \n",
    "    # Parameter Checkpoint\n",
    "    checkpoint = {'model_state_dict': model.state_dict(),\n",
    "                  'optimizer_state_dict' :optimizer.state_dict()}\n",
    "    torch.save(checkpoint, f'models/{directory}/model_checkpoints/{today}_epoch_{epoch}.pt')"
   ]
  },
  {
   "cell_type": "markdown",
   "id": "f51893f9-2df8-4beb-a887-8ce030ac5c07",
   "metadata": {},
   "source": [
    "# Analysis:"
   ]
  },
  {
   "cell_type": "code",
   "execution_count": 33,
   "id": "d4994340-1713-4c00-b8c2-64e75e388318",
   "metadata": {},
   "outputs": [
    {
     "data": {
      "image/png": "[encoded data removed]",
      "text/plain": [
       "<Figure size 432x288 with 1 Axes>"
      ]
     },
     "metadata": {},
     "output_type": "display_data"
    }
   ],
   "source": [
    "import matplotlib.pyplot as plt\n",
    "plt.style.use('ggplot')\n",
    "\n",
    "plt.plot(train_losses, label = 'train') \n",
    "plt.plot(valid_losses, label = 'valid')\n",
    "plt.title('Loss')\n",
    "plt.legend()\n",
    "plt.show()"
   ]
  },
  {
   "cell_type": "code",
   "execution_count": 34,
   "id": "364eb9a1-dee4-4829-83c8-309002d2c8de",
   "metadata": {},
   "outputs": [
    {
     "data": {
      "image/png": "[encoded data removed]",
      "text/plain": [
       "<Figure size 432x288 with 1 Axes>"
      ]
     },
     "metadata": {},
     "output_type": "display_data"
    }
   ],
   "source": [
    "plt.plot(train_accs, label='train')\n",
    "plt.plot(valid_accs, label='valid')\n",
    "plt.title('Accuracy')\n",
    "plt.legend()\n",
    "plt.show()"
   ]
  },
  {
   "cell_type": "markdown",
   "id": "57dd289d-b148-4656-9031-8fb26747b521",
   "metadata": {},
   "source": [
    "# Confusion Matrix (Validation Set)"
   ]
  },
  {
   "cell_type": "code",
   "execution_count": 71,
   "id": "8a91d5f6-c739-4203-b45d-d1c6ade40f5f",
   "metadata": {},
   "outputs": [
    {
     "data": {
      "application/vnd.jupyter.widget-view+json": {
       "model_id": "97b1a8a683bc45ec95d79c0e7c19b664",
       "version_major": 2,
       "version_minor": 0
      },
      "text/plain": [
       "  0%|          | 0/50 [00:00<?, ?it/s]"
      ]
     },
     "metadata": {},
     "output_type": "display_data"
    }
   ],
   "source": [
    "def predictions(model, dataloader, num_points):\n",
    "    model.eval()\n",
    "    total_incorrect = 0\n",
    "    \n",
    "    softmax = nn.LogSoftmax(dim=1)\n",
    "    y_preds = []\n",
    "    ys = []\n",
    "    for x, y in tqdm(dataloader):\n",
    "        x = x.to(device)\n",
    "        y_pred = softmax(model(x))\n",
    "        y_pred = torch.argmax(y_pred, dim=1)\n",
    "        \n",
    "        y_preds.extend(y_pred.cpu().detach().numpy().tolist())\n",
    "        ys.extend(y.detach().numpy().tolist())\n",
    "\n",
    "    return y_preds, ys\n",
    "\n",
    "y_preds, ys = predictions(model, dl_valid, len(ds_valid))"
   ]
  },
  {
   "cell_type": "code",
   "execution_count": 72,
   "id": "635d0eb2-5f25-4289-beb6-15b35cc711f6",
   "metadata": {},
   "outputs": [],
   "source": [
    "to_label = {val:key for key, val in ds_valid.label_dict.items()}\n",
    "y_pred_label = [to_label[y] for y in y_preds]\n",
    "y_true_label = [to_label[y] for y in ys]"
   ]
  },
  {
   "cell_type": "code",
   "execution_count": 73,
   "id": "ae28f917-a7fe-4a24-8a32-f88723acfc4f",
   "metadata": {},
   "outputs": [
    {
     "data": {
      "image/png": "[encoded data removed]",
      "text/plain": [
       "<Figure size 432x288 with 2 Axes>"
      ]
     },
     "metadata": {},
     "output_type": "display_data"
    }
   ],
   "source": [
    "from sklearn import metrics\n",
    "labels = list(ds_valid.label_dict.keys())\n",
    "cm = metrics.confusion_matrix(y_pred_label, y_true_label, labels=labels)\n",
    "disp = metrics.ConfusionMatrixDisplay(confusion_matrix=cm, display_labels=labels)\n",
    "disp.plot(cmap=plt.cm.Blues, values_format='g')\n",
    "plt.title('Validation Set');"
   ]
  },
  {
   "cell_type": "code",
   "execution_count": 76,
   "id": "c10da5fa-b672-4310-aac9-23f2561ebf00",
   "metadata": {},
   "outputs": [
    {
     "name": "stdout",
     "output_type": "stream",
     "text": [
      "              precision    recall  f1-score   support\n",
      "\n",
      "  commercial       0.14      0.13      0.14       372\n",
      " residential       0.73      0.67      0.70       415\n",
      "  industrial       0.11      0.16      0.13       285\n",
      "    downtown       0.64      0.52      0.57       428\n",
      "\n",
      "    accuracy                           0.40      1500\n",
      "   macro avg       0.40      0.37      0.38      1500\n",
      "weighted avg       0.44      0.40      0.42      1500\n",
      "\n"
     ]
    }
   ],
   "source": [
    "from sklearn.metrics import classification_report\n",
    "print(classification_report(y_preds, ys, target_names=labels))"
   ]
  },
  {
   "cell_type": "markdown",
   "id": "d241cd2b-16ea-487f-a4c6-2ffff1756111",
   "metadata": {},
   "source": [
    "# Confusion Matrix (Training Set)"
   ]
  },
  {
   "cell_type": "code",
   "execution_count": 77,
   "id": "83d1728e-b6cb-44e4-bede-1fecaff35cd2",
   "metadata": {},
   "outputs": [
    {
     "data": {
      "application/vnd.jupyter.widget-view+json": {
       "model_id": "67bea921921943fabf1a1d8071d4c015",
       "version_major": 2,
       "version_minor": 0
      },
      "text/plain": [
       "  0%|          | 0/150 [00:00<?, ?it/s]"
      ]
     },
     "metadata": {},
     "output_type": "display_data"
    }
   ],
   "source": [
    "y_preds, ys = predictions(model, dl_train, len(ds_train))"
   ]
  },
  {
   "cell_type": "code",
   "execution_count": 78,
   "id": "5d337074-e529-4a83-9ac2-a82547fc5839",
   "metadata": {},
   "outputs": [
    {
     "data": {
      "image/png": "[encoded data removed]",
      "text/plain": [
       "<Figure size 432x288 with 2 Axes>"
      ]
     },
     "metadata": {},
     "output_type": "display_data"
    }
   ],
   "source": [
    "y_pred_label = [to_label[y] for y in y_preds]\n",
    "y_true_label = [to_label[y] for y in ys]\n",
    "\n",
    "cm = metrics.confusion_matrix(y_pred_label, y_true_label, labels=labels)\n",
    "disp = metrics.ConfusionMatrixDisplay(confusion_matrix=cm, display_labels=labels)\n",
    "disp.plot(cmap=plt.cm.Greens, values_format='g')\n",
    "plt.title('Training Set');"
   ]
  },
  {
   "cell_type": "code",
   "execution_count": 79,
   "id": "b0bd63ee-d11e-42ac-81ba-17fa0dfe3c18",
   "metadata": {},
   "outputs": [
    {
     "name": "stdout",
     "output_type": "stream",
     "text": [
      "              precision    recall  f1-score   support\n",
      "\n",
      "  commercial       0.84      0.87      0.86      1081\n",
      " residential       0.90      0.81      0.85      1189\n",
      "  industrial       0.70      0.80      0.75      1011\n",
      "    downtown       0.81      0.77      0.79      1218\n",
      "\n",
      "    accuracy                           0.81      4499\n",
      "   macro avg       0.81      0.81      0.81      4499\n",
      "weighted avg       0.82      0.81      0.81      4499\n",
      "\n"
     ]
    }
   ],
   "source": [
    "print(classification_report(y_preds, ys, target_names=labels))"
   ]
  },
  {
   "cell_type": "markdown",
   "id": "5ae2af2f-7e77-4ffb-a88b-f1a5f1361754",
   "metadata": {},
   "source": [
    "# Loading Parameters/Model"
   ]
  },
  {
   "cell_type": "code",
   "execution_count": null,
   "id": "attractive-turning",
   "metadata": {},
   "outputs": [],
   "source": [
    "# # now load them up!\n",
    "# checkpoint = torch.load('model_checkpoint.pt')\n",
    "# model.load_state_dict(checkpoint['model_state_dict'])\n",
    "# optimizer.load_state_dict(checkpoint['optimizer_state_dict'])\n",
    "\n",
    "# load the model from disk\n",
    "# loaded_model = pickle.load(open(filename, 'rb'))"
   ]
  },
  {
   "cell_type": "code",
   "execution_count": 35,
   "id": "cf7855d9-2d89-4740-81bf-454a07286031",
   "metadata": {},
   "outputs": [
    {
     "name": "stdout",
     "output_type": "stream",
     "text": [
      "/home/oniemann/Resilience_Classifier\n"
     ]
    }
   ],
   "source": [
    "!pwd"
   ]
  },
  {
   "cell_type": "code",
   "execution_count": null,
   "id": "2903ecef-f618-4108-b857-2e111dd0f17f",
   "metadata": {},
   "outputs": [],
   "source": []
  }
 ],
 "metadata": {
  "kernelspec": {
   "display_name": "Python 3",
   "language": "python",
   "name": "python3"
  },
  "language_info": {
   "codemirror_mode": {
    "name": "ipython",
    "version": 3
   },
   "file_extension": ".py",
   "mimetype": "text/x-python",
   "name": "python",
   "nbconvert_exporter": "python",
   "pygments_lexer": "ipython3",
   "version": "3.6.8"
  }
 },
 "nbformat": 4,
 "nbformat_minor": 5
}
