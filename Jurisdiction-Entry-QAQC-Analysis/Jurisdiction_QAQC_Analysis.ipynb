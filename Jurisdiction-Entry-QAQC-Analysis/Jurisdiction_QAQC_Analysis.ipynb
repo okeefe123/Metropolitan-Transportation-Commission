{
 "cells": [
  {
   "cell_type": "markdown",
   "id": "special-source",
   "metadata": {},
   "source": [
    "# Jurisdiction Entry QA/QC Analysis\n",
    "\n",
    "- lambda function ARN: \n",
    "\n",
    "    aws:lambda:us-west-2:311263071456:function:jurisdiction-entry-analysis\n",
    "\n",
    "## Goals: \n",
    "1. Given entries from a jurisdiction, track and analyze the changes from any previous table version.\n",
    "    a. Determine Metrics that can be used as a reflection of valid entries\n",
    "    b. Generalize to compare any updated entry with any master table enty which shares same unique key\n",
    "    \n",
    "2. Find a method to track all rows potentially affected in redshift database via primary key\n",
    "    \n",
    "3. Implement analysis as an AWS Lambda Function for external use.\n",
    "    a. Gain a better understanding of \"Layers\" to bootstrap libraries in a space efficient manner\n",
    "    b. Implement call capabilities both from a Python Environment and through a REST API\n",
    "        \n",
    "4. Store warning and update logs into appropriate Redshift tables for future reference.\n",
    "\n",
    "\n",
    "## Assumptions:\n",
    "1. The tables ingested by this pipeline have been pulled from Redshift land use 2020 table (and thus that values for all features are consistent in datatype)\n",
    "\n",
    "2. Jurisdiction updates are presented to the function as a json file.\n",
    "    \n",
    "3. Aforementioned presentation shares same schema as old table\n",
    "    a. Full table with updated columns\n",
    "    b. Updated columns themselves\n",
    "\n",
    "4. If a row was added in the update, it was assigned a unique primary key\n",
    "\n",
    "5. A row's recid cannot be changed (since it's used as the primary key between old and new dataframe)\n",
    "\n",
    "6. Columns of type \"float\" are continuous (not ordinal/nominal categories)\n",
    "\n",
    "7. The fifth percentile to the 95th percentile of master socrata dataframe numerical columns is sufficient metric for \"normal\" updates\n",
    "\n",
    "8. Novel string updates when compared to old column counterparts are suspicious enough to raise warnings\n",
    "    \n",
    "\n",
    "## Ouput:\n",
    "\n",
    "1. Update table log with schema:\n",
    "    - recid, city_name, cols_updated, updated_from_nan, updated_to_nan, changed_vals, out_of_range, warnings, editor, edit_timestamp, edit_type__c_u_d__, main_version, old_vals, new_vals\n",
    "\n",
    "2. Warning log with schema:\n",
    "    - city, editor, recid, warn"
   ]
  },
  {
   "cell_type": "markdown",
   "id": "animated-shoot",
   "metadata": {},
   "source": [
    "# QA//QC Use Case:\n",
    "\n",
    "- Most recent update of this class can be found in the 'jurisdiction-entry-analysis' lambda function"
   ]
  },
  {
   "cell_type": "code",
   "execution_count": 30,
   "id": "secret-reproduction",
   "metadata": {},
   "outputs": [],
   "source": [
    "import sys\n",
    "sys.path.insert(0, '../../Project_1_Policy_Parsing/')\n",
    "\n",
    "from table_update_insights_debugging import *\n",
    "from utils_io import *"
   ]
  },
  {
   "cell_type": "code",
   "execution_count": 33,
   "id": "approximate-milan",
   "metadata": {},
   "outputs": [
    {
     "name": "stdout",
     "output_type": "stream",
     "text": [
      "pulling data in 1 chunks of 4936 rows each\n",
      "pulling chunk 0\n",
      "took 3.6922 seconds\n"
     ]
    }
   ],
   "source": [
    "socrata_data_id = 'qdrp-c5ra'\n",
    "df_old = pull_df_from_socrata(socrata_data_id)"
   ]
  },
  {
   "cell_type": "code",
   "execution_count": 34,
   "id": "integral-instrument",
   "metadata": {},
   "outputs": [],
   "source": [
    "dfuje = pd.DataFrame(load_json('Use_Case_Data/updates_only_ex.json'))\n",
    "event = {'socrata_data_id': 'qdrp-c5ra',\n",
    "         'jurisdiction_entries' : dfuje}"
   ]
  },
  {
   "cell_type": "code",
   "execution_count": 35,
   "id": "administrative-reform",
   "metadata": {},
   "outputs": [],
   "source": [
    "update_info = CheckUpdates(df_old, dfuje, primary_key='recid', parcels=False, compare_masters=False)"
   ]
  },
  {
   "cell_type": "code",
   "execution_count": 37,
   "id": "overhead-suspect",
   "metadata": {
    "tags": []
   },
   "outputs": [
    {
     "data": {
      "text/html": [
       "<div>\n",
       "<style scoped>\n",
       "    .dataframe tbody tr th:only-of-type {\n",
       "        vertical-align: middle;\n",
       "    }\n",
       "\n",
       "    .dataframe tbody tr th {\n",
       "        vertical-align: top;\n",
       "    }\n",
       "\n",
       "    .dataframe thead th {\n",
       "        text-align: right;\n",
       "    }\n",
       "</style>\n",
       "<table border=\"1\" class=\"dataframe\">\n",
       "  <thead>\n",
       "    <tr style=\"text-align: right;\">\n",
       "      <th></th>\n",
       "      <th>city</th>\n",
       "      <th>editor</th>\n",
       "      <th>edit_timestamp</th>\n",
       "      <th>recid</th>\n",
       "      <th>warning</th>\n",
       "    </tr>\n",
       "  </thead>\n",
       "  <tbody>\n",
       "    <tr>\n",
       "      <th>0</th>\n",
       "      <td>Fremont</td>\n",
       "      <td>Joshua Croff</td>\n",
       "      <td>2019-10-24 17:00:00</td>\n",
       "      <td>e63d2e0d-2baf-4d4d-a6f8-5eae9bdbc33c</td>\n",
       "      <td>regional_lu_class value is out of range (val = 123.0)</td>\n",
       "    </tr>\n",
       "    <tr>\n",
       "      <th>1</th>\n",
       "      <td>Fremont</td>\n",
       "      <td>Joshua Croff</td>\n",
       "      <td>2019-10-24 17:00:00</td>\n",
       "      <td>e63d2e0d-2baf-4d4d-a6f8-5eae9bdbc33c</td>\n",
       "      <td>max_dua value is out of range (val = 5000.0)</td>\n",
       "    </tr>\n",
       "    <tr>\n",
       "      <th>2</th>\n",
       "      <td>Oakland</td>\n",
       "      <td>Joshua Croff</td>\n",
       "      <td>2019-10-24 17:00:00</td>\n",
       "      <td>62db00d9-c9ff-4764-8d84-59413fe5f0b6</td>\n",
       "      <td>max_far value is out of range (val = 16.0)</td>\n",
       "    </tr>\n",
       "    <tr>\n",
       "      <th>3</th>\n",
       "      <td>Oakland</td>\n",
       "      <td>Joshua Croff</td>\n",
       "      <td>2019-10-24 17:00:00</td>\n",
       "      <td>c1a59692-ee49-4677-95d0-f64e580e5754</td>\n",
       "      <td>units_per_lot value is out of range (val = 12.0)</td>\n",
       "    </tr>\n",
       "    <tr>\n",
       "      <th>4</th>\n",
       "      <td>San Leandro</td>\n",
       "      <td>Avalon Schultz</td>\n",
       "      <td>2019-10-24 17:00:00</td>\n",
       "      <td>338fdfa3-3d33-42ec-afbb-b1ca11f7a73a</td>\n",
       "      <td>regional_lu_class value is out of range (val = 123.0)</td>\n",
       "    </tr>\n",
       "    <tr>\n",
       "      <th>5</th>\n",
       "      <td>San Leandro</td>\n",
       "      <td>Avalon Schultz</td>\n",
       "      <td>2019-10-24 17:00:00</td>\n",
       "      <td>338fdfa3-3d33-42ec-afbb-b1ca11f7a73a</td>\n",
       "      <td>max_dua value is out of range (val = 5000.0)</td>\n",
       "    </tr>\n",
       "    <tr>\n",
       "      <th>6</th>\n",
       "      <td>San Leandro</td>\n",
       "      <td>Avalon Schultz</td>\n",
       "      <td>2019-10-24 17:00:00</td>\n",
       "      <td>338fdfa3-3d33-42ec-afbb-b1ca11f7a73a</td>\n",
       "      <td>\"Testing In Place\" not in other row records for zn_description</td>\n",
       "    </tr>\n",
       "  </tbody>\n",
       "</table>\n",
       "</div>"
      ],
      "text/plain": [
       "          city          editor       edit_timestamp  \\\n",
       "0      Fremont    Joshua Croff  2019-10-24 17:00:00   \n",
       "1      Fremont    Joshua Croff  2019-10-24 17:00:00   \n",
       "2      Oakland    Joshua Croff  2019-10-24 17:00:00   \n",
       "3      Oakland    Joshua Croff  2019-10-24 17:00:00   \n",
       "4  San Leandro  Avalon Schultz  2019-10-24 17:00:00   \n",
       "5  San Leandro  Avalon Schultz  2019-10-24 17:00:00   \n",
       "6  San Leandro  Avalon Schultz  2019-10-24 17:00:00   \n",
       "\n",
       "                                  recid  \\\n",
       "0  e63d2e0d-2baf-4d4d-a6f8-5eae9bdbc33c   \n",
       "1  e63d2e0d-2baf-4d4d-a6f8-5eae9bdbc33c   \n",
       "2  62db00d9-c9ff-4764-8d84-59413fe5f0b6   \n",
       "3  c1a59692-ee49-4677-95d0-f64e580e5754   \n",
       "4  338fdfa3-3d33-42ec-afbb-b1ca11f7a73a   \n",
       "5  338fdfa3-3d33-42ec-afbb-b1ca11f7a73a   \n",
       "6  338fdfa3-3d33-42ec-afbb-b1ca11f7a73a   \n",
       "\n",
       "                                                          warning  \n",
       "0           regional_lu_class value is out of range (val = 123.0)  \n",
       "1                    max_dua value is out of range (val = 5000.0)  \n",
       "2                      max_far value is out of range (val = 16.0)  \n",
       "3                units_per_lot value is out of range (val = 12.0)  \n",
       "4           regional_lu_class value is out of range (val = 123.0)  \n",
       "5                    max_dua value is out of range (val = 5000.0)  \n",
       "6  \"Testing In Place\" not in other row records for zn_description  "
      ]
     },
     "metadata": {},
     "output_type": "display_data"
    }
   ],
   "source": [
    "pretty_print(update_info.warning_table)"
   ]
  },
  {
   "cell_type": "markdown",
   "id": "together-remove",
   "metadata": {},
   "source": [
    "# Pulling Existing Data From Redshift"
   ]
  },
  {
   "cell_type": "code",
   "execution_count": 17,
   "id": "environmental-spencer",
   "metadata": {
    "tags": []
   },
   "outputs": [],
   "source": [
    "# Local debugging\n",
    "# from json import *\n",
    "# dfuje = load_json('Use_Case_Data/updates_only_ex.json')\n",
    "# event = {'socrata_data_id': 'qdrp-c5ra',\n",
    "#          'jurisdiction_entries' : dfuje,\n",
    "#          'entry_tag' : 'basis'}"
   ]
  },
  {
   "cell_type": "code",
   "execution_count": 39,
   "id": "black-termination",
   "metadata": {},
   "outputs": [],
   "source": [
    "with open('Use_Case_Data/updates_only_ex.json') as f:\n",
    "    dfuje = json.load(f)"
   ]
  },
  {
   "cell_type": "code",
   "execution_count": 80,
   "id": "impaired-causing",
   "metadata": {},
   "outputs": [
    {
     "name": "stdout",
     "output_type": "stream",
     "text": [
      "took 0.9691 seconds\n"
     ]
    },
    {
     "data": {
      "text/plain": [
       "recid                     object\n",
       "county_name               object\n",
       "city_name                 object\n",
       "zn_code                   object\n",
       "zn_description            object\n",
       "zn_area_overlay           object\n",
       "regional_lu_class        float64\n",
       "max_far                  float64\n",
       "max_dua                  float64\n",
       "max_height               float64\n",
       "units_per_lot            float64\n",
       "minimum_lot_sqft         float64\n",
       "lot_coverage             float64\n",
       "max_footprint             object\n",
       "zn_code_color             object\n",
       "source                    object\n",
       "hs                       float64\n",
       "ht                       float64\n",
       "hm                       float64\n",
       "of                       float64\n",
       "ho                       float64\n",
       "sc                       float64\n",
       "il                       float64\n",
       "iw                       float64\n",
       "ih                       float64\n",
       "rs                       float64\n",
       "rb                       float64\n",
       "mr                       float64\n",
       "mt                       float64\n",
       "me                       float64\n",
       "building_types_source     object\n",
       "ordinance_url             object\n",
       "editor                    object\n",
       "edit_date                 object\n",
       "dtype: object"
      ]
     },
     "execution_count": 80,
     "metadata": {},
     "output_type": "execute_result"
    }
   ],
   "source": [
    "master_df_query = 'select * from policy.zoning_lookup_20'\n",
    "zl_2020 = pull_df_from_redshift_sql(master_df_query)\n",
    "zl_2020.dtypes"
   ]
  },
  {
   "cell_type": "code",
   "execution_count": 40,
   "id": "prerequisite-shock",
   "metadata": {
    "tags": []
   },
   "outputs": [],
   "source": [
    "update_uc = pd.read_json('Use_Case_Data/updates_only_ex.json')\n",
    "update_uc.rename(columns={'building_height':'max_height'}, inplace=True)"
   ]
  },
  {
   "cell_type": "code",
   "execution_count": 41,
   "id": "insured-pressing",
   "metadata": {},
   "outputs": [
    {
     "name": "stdout",
     "output_type": "stream",
     "text": [
      "took 0.452 seconds\n"
     ]
    },
    {
     "data": {
      "text/plain": [
       "Index(['recid', 'city_name', 'cols_updated', 'updated_from_nan',\n",
       "       'updated_to_nan', 'changed_vals', 'out_of_range', 'warnings', 'editor',\n",
       "       'edit_timestamp', 'edit_type__c_u_d__', 'main_version', 'old_vals',\n",
       "       'new_vals'],\n",
       "      dtype='object')"
      ]
     },
     "execution_count": 41,
     "metadata": {},
     "output_type": "execute_result"
    }
   ],
   "source": [
    "pull_df_from_redshift_sql('select * from basis_edit_logs.edit_log_2021').columns"
   ]
  },
  {
   "cell_type": "markdown",
   "id": "simple-religion",
   "metadata": {},
   "source": [
    "# Creating, Deleting Tables"
   ]
  },
  {
   "cell_type": "code",
   "execution_count": 77,
   "id": "bound-welsh",
   "metadata": {},
   "outputs": [
    {
     "name": "stdout",
     "output_type": "stream",
     "text": [
      "DROP table if exists basis_edit_logs.edit_log_2021\n",
      "\n",
      "\n",
      "\n",
      "    CREATE TABLE basis_edit_logs.edit_log_2021 (\n",
      "        recid VARCHAR,\n",
      "        city_name VARCHAR,\n",
      "        cols_updated VARCHAR(1000),\n",
      "        updated_from_nan INTEGER,\n",
      "        updated_to_nan INTEGER,\n",
      "        changed_vals INTEGER,\n",
      "        out_of_range INTEGER,\n",
      "        warnings VARCHAR(5000),\n",
      "        editor VARCHAR,\n",
      "        edit_timestamp VARCHAR,\n",
      "        edit_type__c_u_d__ VARCHAR,\n",
      "        main_version VARCHAR,\n",
      "        old_vals VARCHAR(5000),\n",
      "        new_vals VARCHAR(5000)\n",
      "        );\n",
      "    \n",
      "\n",
      "\n",
      "took 0.4087 seconds\n"
     ]
    },
    {
     "data": {
      "text/html": [
       "<div>\n",
       "<style scoped>\n",
       "    .dataframe tbody tr th:only-of-type {\n",
       "        vertical-align: middle;\n",
       "    }\n",
       "\n",
       "    .dataframe tbody tr th {\n",
       "        vertical-align: top;\n",
       "    }\n",
       "\n",
       "    .dataframe thead th {\n",
       "        text-align: right;\n",
       "    }\n",
       "</style>\n",
       "<table border=\"1\" class=\"dataframe\">\n",
       "  <thead>\n",
       "    <tr style=\"text-align: right;\">\n",
       "      <th></th>\n",
       "      <th>recid</th>\n",
       "      <th>city_name</th>\n",
       "      <th>cols_updated</th>\n",
       "      <th>updated_from_nan</th>\n",
       "      <th>updated_to_nan</th>\n",
       "      <th>changed_vals</th>\n",
       "      <th>out_of_range</th>\n",
       "      <th>warnings</th>\n",
       "      <th>editor</th>\n",
       "      <th>edit_timestamp</th>\n",
       "      <th>edit_type__c_u_d__</th>\n",
       "      <th>main_version</th>\n",
       "      <th>old_vals</th>\n",
       "      <th>new_vals</th>\n",
       "    </tr>\n",
       "  </thead>\n",
       "  <tbody>\n",
       "  </tbody>\n",
       "</table>\n",
       "</div>"
      ],
      "text/plain": [
       "Empty DataFrame\n",
       "Columns: [recid, city_name, cols_updated, updated_from_nan, updated_to_nan, changed_vals, out_of_range, warnings, editor, edit_timestamp, edit_type__c_u_d__, main_version, old_vals, new_vals]\n",
       "Index: []"
      ]
     },
     "execution_count": 77,
     "metadata": {},
     "output_type": "execute_result"
    }
   ],
   "source": [
    "query = ['DROP table if exists basis_edit_logs.edit_log_2021']\n",
    "\n",
    "execute_redshift_cmds(query)\n",
    "\n",
    "add_table_query = [\n",
    "    \"\"\"\n",
    "    CREATE TABLE basis_edit_logs.edit_log_2021 (\n",
    "        recid VARCHAR,\n",
    "        city_name VARCHAR,\n",
    "        cols_updated VARCHAR(1000),\n",
    "        updated_from_nan INTEGER,\n",
    "        updated_to_nan INTEGER,\n",
    "        changed_vals INTEGER,\n",
    "        out_of_range INTEGER,\n",
    "        warnings VARCHAR(5000),\n",
    "        editor VARCHAR,\n",
    "        edit_timestamp VARCHAR,\n",
    "        edit_type__c_u_d__ VARCHAR,\n",
    "        main_version VARCHAR,\n",
    "        old_vals VARCHAR(5000),\n",
    "        new_vals VARCHAR(5000)\n",
    "        );\n",
    "    \"\"\"\n",
    "]\n",
    "\n",
    "execute_redshift_cmds(add_table_query)\n",
    "pull_df_from_redshift_sql('select * from basis_edit_logs.edit_log_2021')"
   ]
  },
  {
   "cell_type": "code",
   "execution_count": 78,
   "id": "marine-entry",
   "metadata": {},
   "outputs": [
    {
     "name": "stdout",
     "output_type": "stream",
     "text": [
      "DROP table if exists basis_edit_logs.warning_log_2021\n",
      "\n",
      "\n",
      "\n",
      "    CREATE TABLE basis_edit_logs.warning_log_2021 (\n",
      "        city VARCHAR,\n",
      "        editor VARCHAR,\n",
      "        edit_timestamp VARCHAR,\n",
      "        recid VARCHAR,\n",
      "        warning VARCHAR\n",
      "        );\n",
      "    \n",
      "\n",
      "\n",
      "took 0.4405 seconds\n"
     ]
    },
    {
     "data": {
      "text/html": [
       "<div>\n",
       "<style scoped>\n",
       "    .dataframe tbody tr th:only-of-type {\n",
       "        vertical-align: middle;\n",
       "    }\n",
       "\n",
       "    .dataframe tbody tr th {\n",
       "        vertical-align: top;\n",
       "    }\n",
       "\n",
       "    .dataframe thead th {\n",
       "        text-align: right;\n",
       "    }\n",
       "</style>\n",
       "<table border=\"1\" class=\"dataframe\">\n",
       "  <thead>\n",
       "    <tr style=\"text-align: right;\">\n",
       "      <th></th>\n",
       "      <th>city</th>\n",
       "      <th>editor</th>\n",
       "      <th>edit_timestamp</th>\n",
       "      <th>recid</th>\n",
       "      <th>warning</th>\n",
       "    </tr>\n",
       "  </thead>\n",
       "  <tbody>\n",
       "  </tbody>\n",
       "</table>\n",
       "</div>"
      ],
      "text/plain": [
       "Empty DataFrame\n",
       "Columns: [city, editor, edit_timestamp, recid, warning]\n",
       "Index: []"
      ]
     },
     "execution_count": 78,
     "metadata": {},
     "output_type": "execute_result"
    }
   ],
   "source": [
    "query = ['DROP table if exists basis_edit_logs.warning_log_2021']\n",
    "\n",
    "execute_redshift_cmds(query)\n",
    "\n",
    "add_table_query = [\n",
    "    \"\"\"\n",
    "    CREATE TABLE basis_edit_logs.warning_log_2021 (\n",
    "        city VARCHAR,\n",
    "        editor VARCHAR,\n",
    "        edit_timestamp VARCHAR,\n",
    "        recid VARCHAR,\n",
    "        warning VARCHAR\n",
    "        );\n",
    "    \"\"\"\n",
    "]\n",
    "\n",
    "execute_redshift_cmds(add_table_query)\n",
    "pull_df_from_redshift_sql('select * from basis_edit_logs.warning_log_2021')"
   ]
  },
  {
   "cell_type": "markdown",
   "id": "bright-nepal",
   "metadata": {},
   "source": [
    "# Lambda Function Invocation:"
   ]
  },
  {
   "cell_type": "code",
   "execution_count": 79,
   "id": "conservative-number",
   "metadata": {
    "tags": []
   },
   "outputs": [
    {
     "data": {
      "text/plain": [
       "{'ResponseMetadata': {'RequestId': 'db55b0be-1443-4e0c-8811-7669c4fe534c',\n",
       "  'HTTPStatusCode': 200,\n",
       "  'HTTPHeaders': {'date': 'Mon, 19 Jul 2021 22:48:10 GMT',\n",
       "   'content-type': 'application/json',\n",
       "   'content-length': '4',\n",
       "   'connection': 'keep-alive',\n",
       "   'x-amzn-requestid': 'db55b0be-1443-4e0c-8811-7669c4fe534c',\n",
       "   'x-amzn-remapped-content-length': '0',\n",
       "   'x-amz-executed-version': '$LATEST',\n",
       "   'x-amzn-trace-id': 'root=1-60f60124-46e2a2cc6ae5627e6d52df49;sampled=0'},\n",
       "  'RetryAttempts': 0},\n",
       " 'StatusCode': 200,\n",
       " 'ExecutedVersion': '$LATEST',\n",
       " 'Payload': <botocore.response.StreamingBody at 0x10d3c18b0>}"
      ]
     },
     "execution_count": 79,
     "metadata": {},
     "output_type": "execute_result"
    }
   ],
   "source": [
    "from aws_creds import alternate_creds\n",
    "import boto3\n",
    "import json\n",
    "\n",
    "# dfuje = \"dataframe updated jurisdiction entries\"\n",
    "with open('Use_Case_Data/updates_uc_2020.json') as f:\n",
    "    dfuje = json.load(f)\n",
    "\n",
    "event = {'main_version': 3,\n",
    "         'jurisdiction_entries' : dfuje,\n",
    "         'include_parcels' : False}\n",
    "\n",
    "payload = json.dumps(event)\n",
    "\n",
    "session = boto3.Session(aws_access_key_id=alternate_creds['Access_Key_ID'],\n",
    "                        aws_secret_access_key = alternate_creds['Secret_Key'])\n",
    "\n",
    "lambda_client = session.client('lambda',  region_name = 'us-west-2')\n",
    "lambda_payload = event\n",
    "lambda_client.invoke(FunctionName='arn:aws:lambda:us-west-2:311263071456:function:jurisdiction-entry-analysis', \n",
    "                     InvocationType='RequestResponse',\n",
    "                     Payload=payload)"
   ]
  },
  {
   "cell_type": "markdown",
   "id": "31029c91-0d73-44d3-b777-12ef11781881",
   "metadata": {},
   "source": [
    "- Empty values inputted as \"-1\" (datatype errors arise for NaN)"
   ]
  },
  {
   "cell_type": "code",
   "execution_count": 80,
   "id": "creative-colony",
   "metadata": {},
   "outputs": [
    {
     "name": "stdout",
     "output_type": "stream",
     "text": [
      "took 0.3986 seconds\n"
     ]
    },
    {
     "data": {
      "text/html": [
       "<div>\n",
       "<style scoped>\n",
       "    .dataframe tbody tr th:only-of-type {\n",
       "        vertical-align: middle;\n",
       "    }\n",
       "\n",
       "    .dataframe tbody tr th {\n",
       "        vertical-align: top;\n",
       "    }\n",
       "\n",
       "    .dataframe thead th {\n",
       "        text-align: right;\n",
       "    }\n",
       "</style>\n",
       "<table border=\"1\" class=\"dataframe\">\n",
       "  <thead>\n",
       "    <tr style=\"text-align: right;\">\n",
       "      <th></th>\n",
       "      <th>recid</th>\n",
       "      <th>city_name</th>\n",
       "      <th>cols_updated</th>\n",
       "      <th>updated_from_nan</th>\n",
       "      <th>updated_to_nan</th>\n",
       "      <th>changed_vals</th>\n",
       "      <th>out_of_range</th>\n",
       "      <th>warnings</th>\n",
       "      <th>editor</th>\n",
       "      <th>edit_timestamp</th>\n",
       "      <th>edit_type__c_u_d__</th>\n",
       "      <th>main_version</th>\n",
       "      <th>old_vals</th>\n",
       "      <th>new_vals</th>\n",
       "    </tr>\n",
       "  </thead>\n",
       "  <tbody>\n",
       "    <tr>\n",
       "      <th>0</th>\n",
       "      <td>thiswasadded1-f595-4fa8-8da2-975dfae46dc4</td>\n",
       "      <td>Cloverdale</td>\n",
       "      <td>row created</td>\n",
       "      <td>-1</td>\n",
       "      <td>-1</td>\n",
       "      <td>-1</td>\n",
       "      <td>2</td>\n",
       "      <td>[max_far value is out of range (val = 0.0),max_dua value is out of range (val = 0.0),0    Joshua Croff\\nName: editor, dtype: object not in other row records for editor]</td>\n",
       "      <td>Joshua Croff</td>\n",
       "      <td>2019-10-21 00:00:00</td>\n",
       "      <td>c</td>\n",
       "      <td>3</td>\n",
       "      <td>-1</td>\n",
       "      <td>[thiswasadded1-f595-4fa8-8da2-975dfae46dc4,Cloverdale,M-1,General Industrial,None,5,0.0,0,nan,nan,Joshua Croff,2019-10-21 00:00:00,Sonoma,#75187C,nan,nan,0.0,None,1.0,0.0,None,0.0,None,0.0,0.0,0.0,0.0,0.0,None,0.0,1.0,0.0,1.0,0.0]</td>\n",
       "    </tr>\n",
       "    <tr>\n",
       "      <th>1</th>\n",
       "      <td>dc4e140a-ed57-42c5-b4d0-89444919e88f</td>\n",
       "      <td>Dublin</td>\n",
       "      <td>[recid,city_name,zn_code,zn_description,zn_area_overlay,regional_lu_class,max_far,max_dua,max_height,units_per_lot,editor,edit_date,county_name,zn_code_color,minimum_lot_sqft,source,iw,building_types_source,hm,ht,max_footprint,rb,ordinance_url,ho,mt,il,hs,me,lot_coverage,ih,mr,sc,rs,of]</td>\n",
       "      <td>0</td>\n",
       "      <td>2</td>\n",
       "      <td>34</td>\n",
       "      <td>0</td>\n",
       "      <td>[]</td>\n",
       "      <td>Kearey Smith</td>\n",
       "      <td>2019-10-29 00:00:00</td>\n",
       "      <td>u</td>\n",
       "      <td>3</td>\n",
       "      <td>[dc4e140a-ed57-42c5-b4d0-89444919e88f,Alameda,Dublin,C-N,Neighborhood Commercial,None,3.0,nan,nan,35.0,nan,nan,nan,None,#FF6B6B,zoning,0.0,0.0,0.0,1.0,1.0,1.0,0.0,0.0,0.0,1.0,1.0,0.0,0.0,0.0,2010 Aksel Geo-matching,https://www.codepublishing.com/CA/Dublin/Dublin08/Dublin0812.html#8.12,Kearey Smith,2019-10-29 00:00:00]</td>\n",
       "      <td>[dc4e140a-ed57-42c5-b4d0-89444919e88f,Dublin,C-N,Neighborhood Commercial,None,123,nan,12,35.0,nan,Michael Cass,2019-10-25 00:00:00,Alameda,#FF6B6B,5000.0,nan,0.0,None,1.0,0.0,None,0.0,None,0.0,0.0,0.0,0.0,0.0,None,0.0,1.0,0.0,1.0,0.0]</td>\n",
       "    </tr>\n",
       "    <tr>\n",
       "      <th>2</th>\n",
       "      <td>e63d2e0d-2baf-4d4d-a6f8-5eae9bdbc33c</td>\n",
       "      <td>Fremont</td>\n",
       "      <td>[recid,city_name,zn_code,zn_description,zn_area_overlay,regional_lu_class,max_far,max_dua,max_height,units_per_lot,editor,edit_date,county_name,zn_code_color,minimum_lot_sqft,source,iw,building_types_source,hm,ht,max_footprint,rb,ordinance_url,ho,mt,il,hs,me,lot_coverage,ih,mr,sc,rs,of]</td>\n",
       "      <td>14</td>\n",
       "      <td>0</td>\n",
       "      <td>20</td>\n",
       "      <td>3</td>\n",
       "      <td>[regional_lu_class value is out of range (val = 123.0),max_far value is out of range (val = 0.0),max_dua value is out of range (val = 5000.0),Joshua Croff not in other row records for editor]</td>\n",
       "      <td>Joshua Croff</td>\n",
       "      <td>2019-10-25 00:00:00</td>\n",
       "      <td>u</td>\n",
       "      <td>3</td>\n",
       "      <td>[e63d2e0d-2baf-4d4d-a6f8-5eae9bdbc33c,Alameda,Fremont,P-87-2,Planned District,None,11.0,0.01,1.0,30.0,nan,nan,nan,None,#556B2F,zoning,nan,nan,nan,nan,nan,nan,nan,nan,nan,nan,nan,nan,nan,nan,None,https://www.codepublishing.com/CA/Fremont/,Kearey Smith,2019-05-24 00:00:00]</td>\n",
       "      <td>[e63d2e0d-2baf-4d4d-a6f8-5eae9bdbc33c,Fremont,P-87-2,Planned District,None,123,0.0,5000,50.0,nan,Joshua Croff,2019-10-25 00:00:00,Alameda,#556B2F,nan,nan,0.0,None,1.0,0.0,None,0.0,None,0.0,0.0,0.0,0.0,0.0,None,0.0,1.0,0.0,1.0,0.0]</td>\n",
       "    </tr>\n",
       "    <tr>\n",
       "      <th>3</th>\n",
       "      <td>f063d0c3-d09f-47e7-9381-f71b954ca0fe</td>\n",
       "      <td>Fremont</td>\n",
       "      <td>[recid,city_name,zn_code,zn_description,zn_area_overlay,regional_lu_class,max_far,max_dua,max_height,units_per_lot,editor,edit_date,county_name,zn_code_color,minimum_lot_sqft,source,iw,building_types_source,hm,ht,max_footprint,rb,ordinance_url,ho,mt,il,hs,me,lot_coverage,ih,mr,sc,rs,of]</td>\n",
       "      <td>0</td>\n",
       "      <td>17</td>\n",
       "      <td>34</td>\n",
       "      <td>0</td>\n",
       "      <td>[]</td>\n",
       "      <td>Kearey Smith</td>\n",
       "      <td>2019-10-31 00:00:00</td>\n",
       "      <td>u</td>\n",
       "      <td>3</td>\n",
       "      <td>[f063d0c3-d09f-47e7-9381-f71b954ca0fe,Alameda,Fremont,OS(Q),Open Space,Quarry Overlay,7.0,nan,1.0,30.0,nan,nan,nan,None,#006A00,zoning,nan,nan,nan,nan,nan,nan,nan,nan,nan,nan,nan,nan,nan,nan,None,https://www.codepublishing.com/CA/Fremont/,Kearey Smith,2019-10-31 00:00:00]</td>\n",
       "      <td>[f063d0c3-d09f-47e7-9381-f71b954ca0fe,Fremont,OS(Q),Open Space,Quarry Overlay,12,26.0,16,30.0,1.0,Marc Cleveland,2019-10-25 00:00:00,Alameda,#006A00,43560.0,nan,0.0,None,1.0,0.0,None,0.0,None,0.0,0.0,0.0,0.0,0.0,None,0.0,1.0,0.0,1.0,0.0]</td>\n",
       "    </tr>\n",
       "    <tr>\n",
       "      <th>4</th>\n",
       "      <td>62db00d9-c9ff-4764-8d84-59413fe5f0b6</td>\n",
       "      <td>Oakland</td>\n",
       "      <td>row created</td>\n",
       "      <td>-1</td>\n",
       "      <td>-1</td>\n",
       "      <td>-1</td>\n",
       "      <td>2</td>\n",
       "      <td>[max_far value is out of range (val = 16.0),max_dua value is out of range (val = 0.0),3756    CN-2 - D-KP-3\\nName: zn_code, dtype: object not in other row records for zn_code,3756    Kaiser Permanente Oakland Medical Center Zone\\nName: zn_area_overlay, dtype: object not in other row records for zn_area_overlay,3756    25.0\\nName: source, dtype: object not in other row records for source,3756    Joshua Croff\\nName: editor, dtype: object not in other row records for editor]</td>\n",
       "      <td>Joshua Croff</td>\n",
       "      <td>2019-10-25 00:00:00</td>\n",
       "      <td>c</td>\n",
       "      <td>3</td>\n",
       "      <td>-1</td>\n",
       "      <td>[62db00d9-c9ff-4764-8d84-59413fe5f0b6,Oakland,CN-2 - D-KP-3,Commercial - Neighborhood Center,Kaiser Permanente Oakland Medical Center Zone,3,16.0,0,nan,nan,Joshua Croff,2019-10-25 00:00:00,Alameda,#FF0000,nan,25.0,0.0,None,1.0,0.0,None,0.0,None,0.0,0.0,0.0,0.0,0.0,None,0.0,1.0,0.0,1.0,0.0]</td>\n",
       "    </tr>\n",
       "    <tr>\n",
       "      <th>5</th>\n",
       "      <td>c1a59692-ee49-4677-95d0-f64e580e5754</td>\n",
       "      <td>Oakland</td>\n",
       "      <td>row created</td>\n",
       "      <td>-1</td>\n",
       "      <td>-1</td>\n",
       "      <td>-1</td>\n",
       "      <td>3</td>\n",
       "      <td>[max_far value is out of range (val = 0.0),max_dua value is out of range (val = 0.0),units_per_lot value is out of range (val = 12.0),4060    123.0\\nName: source, dtype: object not in other row records for source,4060    Joshua Croff\\nName: editor, dtype: object not in other row records for editor]</td>\n",
       "      <td>Joshua Croff</td>\n",
       "      <td>2019-10-25 00:00:00</td>\n",
       "      <td>c</td>\n",
       "      <td>3</td>\n",
       "      <td>-1</td>\n",
       "      <td>[c1a59692-ee49-4677-95d0-f64e580e5754,Oakland,D-KP-1,Special and Combined - Kaiser Permanente Oakland Medical,None,4,0.0,0,nan,12.0,Joshua Croff,2019-10-25 00:00:00,Alameda,#990000,10000.0,123.0,0.0,None,1.0,0.0,None,0.0,None,0.0,0.0,0.0,0.0,0.0,None,0.0,1.0,0.0,1.0,0.0]</td>\n",
       "    </tr>\n",
       "    <tr>\n",
       "      <th>6</th>\n",
       "      <td>338fdfa3-3d33-42ec-afbb-b1ca11f7a73a</td>\n",
       "      <td>San Leandro</td>\n",
       "      <td>[recid,city_name,zn_code,zn_description,zn_area_overlay,regional_lu_class,max_far,max_dua,max_height,units_per_lot,editor,edit_date,county_name,zn_code_color,minimum_lot_sqft,source,iw,building_types_source,hm,ht,max_footprint,rb,ordinance_url,ho,mt,il,hs,me,lot_coverage,ih,mr,sc,rs,of]</td>\n",
       "      <td>12</td>\n",
       "      <td>0</td>\n",
       "      <td>22</td>\n",
       "      <td>2</td>\n",
       "      <td>[regional_lu_class value is out of range (val = 123.0),max_dua value is out of range (val = 5000.0),Avalon Schultz not in other row records for editor,Testing In Place not in other row records for zn_description]</td>\n",
       "      <td>Avalon Schultz</td>\n",
       "      <td>2019-10-25 00:00:00</td>\n",
       "      <td>u</td>\n",
       "      <td>3</td>\n",
       "      <td>[338fdfa3-3d33-42ec-afbb-b1ca11f7a73a,Alameda,San Leandro,IT,Industrial Transition,None,5.0,1.0,40.0,35.0,nan,nan,nan,None,#B566FF,zoning,0.0,0.0,nan,nan,nan,nan,1.0,nan,nan,nan,nan,nan,nan,nan,Industrial zn_description inference,http://sanleandro.org/depts/cd/plan/zonecodemap.asp,Kearey Smith,2019-10-24 00:00:00]</td>\n",
       "      <td>[338fdfa3-3d33-42ec-afbb-b1ca11f7a73a,San Leandro,IT,Testing In Place,None,123,1.0,5000,50.0,nan,Avalon Schultz,2019-10-25 00:00:00,Alameda,#B566FF,5000.0,nan,0.0,None,1.0,0.0,None,0.0,None,0.0,0.0,0.0,0.0,0.0,None,0.0,1.0,0.0,1.0,0.0]</td>\n",
       "    </tr>\n",
       "  </tbody>\n",
       "</table>\n",
       "</div>"
      ],
      "text/plain": [
       "                                       recid    city_name  \\\n",
       "0  thiswasadded1-f595-4fa8-8da2-975dfae46dc4   Cloverdale   \n",
       "1       dc4e140a-ed57-42c5-b4d0-89444919e88f       Dublin   \n",
       "2       e63d2e0d-2baf-4d4d-a6f8-5eae9bdbc33c      Fremont   \n",
       "3       f063d0c3-d09f-47e7-9381-f71b954ca0fe      Fremont   \n",
       "4       62db00d9-c9ff-4764-8d84-59413fe5f0b6      Oakland   \n",
       "5       c1a59692-ee49-4677-95d0-f64e580e5754      Oakland   \n",
       "6       338fdfa3-3d33-42ec-afbb-b1ca11f7a73a  San Leandro   \n",
       "\n",
       "                                                                                                                                                                                                                                                                                      cols_updated  \\\n",
       "0                                                                                                                                                                                                                                                                                      row created   \n",
       "1  [recid,city_name,zn_code,zn_description,zn_area_overlay,regional_lu_class,max_far,max_dua,max_height,units_per_lot,editor,edit_date,county_name,zn_code_color,minimum_lot_sqft,source,iw,building_types_source,hm,ht,max_footprint,rb,ordinance_url,ho,mt,il,hs,me,lot_coverage,ih,mr,sc,rs,of]   \n",
       "2  [recid,city_name,zn_code,zn_description,zn_area_overlay,regional_lu_class,max_far,max_dua,max_height,units_per_lot,editor,edit_date,county_name,zn_code_color,minimum_lot_sqft,source,iw,building_types_source,hm,ht,max_footprint,rb,ordinance_url,ho,mt,il,hs,me,lot_coverage,ih,mr,sc,rs,of]   \n",
       "3  [recid,city_name,zn_code,zn_description,zn_area_overlay,regional_lu_class,max_far,max_dua,max_height,units_per_lot,editor,edit_date,county_name,zn_code_color,minimum_lot_sqft,source,iw,building_types_source,hm,ht,max_footprint,rb,ordinance_url,ho,mt,il,hs,me,lot_coverage,ih,mr,sc,rs,of]   \n",
       "4                                                                                                                                                                                                                                                                                      row created   \n",
       "5                                                                                                                                                                                                                                                                                      row created   \n",
       "6  [recid,city_name,zn_code,zn_description,zn_area_overlay,regional_lu_class,max_far,max_dua,max_height,units_per_lot,editor,edit_date,county_name,zn_code_color,minimum_lot_sqft,source,iw,building_types_source,hm,ht,max_footprint,rb,ordinance_url,ho,mt,il,hs,me,lot_coverage,ih,mr,sc,rs,of]   \n",
       "\n",
       "   updated_from_nan  updated_to_nan  changed_vals  out_of_range  \\\n",
       "0                -1              -1            -1             2   \n",
       "1                 0               2            34             0   \n",
       "2                14               0            20             3   \n",
       "3                 0              17            34             0   \n",
       "4                -1              -1            -1             2   \n",
       "5                -1              -1            -1             3   \n",
       "6                12               0            22             2   \n",
       "\n",
       "                                                                                                                                                                                                                                                                                                                                                                                                                                                                                       warnings  \\\n",
       "0                                                                                                                                                                                                                                                                                                                      [max_far value is out of range (val = 0.0),max_dua value is out of range (val = 0.0),0    Joshua Croff\\nName: editor, dtype: object not in other row records for editor]   \n",
       "1                                                                                                                                                                                                                                                                                                                                                                                                                                                                                            []   \n",
       "2                                                                                                                                                                                                                                                                                               [regional_lu_class value is out of range (val = 123.0),max_far value is out of range (val = 0.0),max_dua value is out of range (val = 5000.0),Joshua Croff not in other row records for editor]   \n",
       "3                                                                                                                                                                                                                                                                                                                                                                                                                                                                                            []   \n",
       "4  [max_far value is out of range (val = 16.0),max_dua value is out of range (val = 0.0),3756    CN-2 - D-KP-3\\nName: zn_code, dtype: object not in other row records for zn_code,3756    Kaiser Permanente Oakland Medical Center Zone\\nName: zn_area_overlay, dtype: object not in other row records for zn_area_overlay,3756    25.0\\nName: source, dtype: object not in other row records for source,3756    Joshua Croff\\nName: editor, dtype: object not in other row records for editor]   \n",
       "5                                                                                                                                                                                   [max_far value is out of range (val = 0.0),max_dua value is out of range (val = 0.0),units_per_lot value is out of range (val = 12.0),4060    123.0\\nName: source, dtype: object not in other row records for source,4060    Joshua Croff\\nName: editor, dtype: object not in other row records for editor]   \n",
       "6                                                                                                                                                                                                                                                                          [regional_lu_class value is out of range (val = 123.0),max_dua value is out of range (val = 5000.0),Avalon Schultz not in other row records for editor,Testing In Place not in other row records for zn_description]   \n",
       "\n",
       "           editor       edit_timestamp edit_type__c_u_d__ main_version  \\\n",
       "0    Joshua Croff  2019-10-21 00:00:00                  c            3   \n",
       "1    Kearey Smith  2019-10-29 00:00:00                  u            3   \n",
       "2    Joshua Croff  2019-10-25 00:00:00                  u            3   \n",
       "3    Kearey Smith  2019-10-31 00:00:00                  u            3   \n",
       "4    Joshua Croff  2019-10-25 00:00:00                  c            3   \n",
       "5    Joshua Croff  2019-10-25 00:00:00                  c            3   \n",
       "6  Avalon Schultz  2019-10-25 00:00:00                  u            3   \n",
       "\n",
       "                                                                                                                                                                                                                                                                                                                          old_vals  \\\n",
       "0                                                                                                                                                                                                                                                                                                                               -1   \n",
       "1  [dc4e140a-ed57-42c5-b4d0-89444919e88f,Alameda,Dublin,C-N,Neighborhood Commercial,None,3.0,nan,nan,35.0,nan,nan,nan,None,#FF6B6B,zoning,0.0,0.0,0.0,1.0,1.0,1.0,0.0,0.0,0.0,1.0,1.0,0.0,0.0,0.0,2010 Aksel Geo-matching,https://www.codepublishing.com/CA/Dublin/Dublin08/Dublin0812.html#8.12,Kearey Smith,2019-10-29 00:00:00]   \n",
       "2                                                  [e63d2e0d-2baf-4d4d-a6f8-5eae9bdbc33c,Alameda,Fremont,P-87-2,Planned District,None,11.0,0.01,1.0,30.0,nan,nan,nan,None,#556B2F,zoning,nan,nan,nan,nan,nan,nan,nan,nan,nan,nan,nan,nan,nan,nan,None,https://www.codepublishing.com/CA/Fremont/,Kearey Smith,2019-05-24 00:00:00]   \n",
       "3                                                 [f063d0c3-d09f-47e7-9381-f71b954ca0fe,Alameda,Fremont,OS(Q),Open Space,Quarry Overlay,7.0,nan,1.0,30.0,nan,nan,nan,None,#006A00,zoning,nan,nan,nan,nan,nan,nan,nan,nan,nan,nan,nan,nan,nan,nan,None,https://www.codepublishing.com/CA/Fremont/,Kearey Smith,2019-10-31 00:00:00]   \n",
       "4                                                                                                                                                                                                                                                                                                                               -1   \n",
       "5                                                                                                                                                                                                                                                                                                                               -1   \n",
       "6      [338fdfa3-3d33-42ec-afbb-b1ca11f7a73a,Alameda,San Leandro,IT,Industrial Transition,None,5.0,1.0,40.0,35.0,nan,nan,nan,None,#B566FF,zoning,0.0,0.0,nan,nan,nan,nan,1.0,nan,nan,nan,nan,nan,nan,nan,Industrial zn_description inference,http://sanleandro.org/depts/cd/plan/zonecodemap.asp,Kearey Smith,2019-10-24 00:00:00]   \n",
       "\n",
       "                                                                                                                                                                                                                                                                                             new_vals  \n",
       "0                                                              [thiswasadded1-f595-4fa8-8da2-975dfae46dc4,Cloverdale,M-1,General Industrial,None,5,0.0,0,nan,nan,Joshua Croff,2019-10-21 00:00:00,Sonoma,#75187C,nan,nan,0.0,None,1.0,0.0,None,0.0,None,0.0,0.0,0.0,0.0,0.0,None,0.0,1.0,0.0,1.0,0.0]  \n",
       "1                                                          [dc4e140a-ed57-42c5-b4d0-89444919e88f,Dublin,C-N,Neighborhood Commercial,None,123,nan,12,35.0,nan,Michael Cass,2019-10-25 00:00:00,Alameda,#FF6B6B,5000.0,nan,0.0,None,1.0,0.0,None,0.0,None,0.0,0.0,0.0,0.0,0.0,None,0.0,1.0,0.0,1.0,0.0]  \n",
       "2                                                              [e63d2e0d-2baf-4d4d-a6f8-5eae9bdbc33c,Fremont,P-87-2,Planned District,None,123,0.0,5000,50.0,nan,Joshua Croff,2019-10-25 00:00:00,Alameda,#556B2F,nan,nan,0.0,None,1.0,0.0,None,0.0,None,0.0,0.0,0.0,0.0,0.0,None,0.0,1.0,0.0,1.0,0.0]  \n",
       "3                                                       [f063d0c3-d09f-47e7-9381-f71b954ca0fe,Fremont,OS(Q),Open Space,Quarry Overlay,12,26.0,16,30.0,1.0,Marc Cleveland,2019-10-25 00:00:00,Alameda,#006A00,43560.0,nan,0.0,None,1.0,0.0,None,0.0,None,0.0,0.0,0.0,0.0,0.0,None,0.0,1.0,0.0,1.0,0.0]  \n",
       "4  [62db00d9-c9ff-4764-8d84-59413fe5f0b6,Oakland,CN-2 - D-KP-3,Commercial - Neighborhood Center,Kaiser Permanente Oakland Medical Center Zone,3,16.0,0,nan,nan,Joshua Croff,2019-10-25 00:00:00,Alameda,#FF0000,nan,25.0,0.0,None,1.0,0.0,None,0.0,None,0.0,0.0,0.0,0.0,0.0,None,0.0,1.0,0.0,1.0,0.0]  \n",
       "5                     [c1a59692-ee49-4677-95d0-f64e580e5754,Oakland,D-KP-1,Special and Combined - Kaiser Permanente Oakland Medical,None,4,0.0,0,nan,12.0,Joshua Croff,2019-10-25 00:00:00,Alameda,#990000,10000.0,123.0,0.0,None,1.0,0.0,None,0.0,None,0.0,0.0,0.0,0.0,0.0,None,0.0,1.0,0.0,1.0,0.0]  \n",
       "6                                                         [338fdfa3-3d33-42ec-afbb-b1ca11f7a73a,San Leandro,IT,Testing In Place,None,123,1.0,5000,50.0,nan,Avalon Schultz,2019-10-25 00:00:00,Alameda,#B566FF,5000.0,nan,0.0,None,1.0,0.0,None,0.0,None,0.0,0.0,0.0,0.0,0.0,None,0.0,1.0,0.0,1.0,0.0]  "
      ]
     },
     "metadata": {},
     "output_type": "display_data"
    }
   ],
   "source": [
    "pretty_print(pull_df_from_redshift_sql('select * from basis_edit_logs.edit_log_2021'))"
   ]
  },
  {
   "cell_type": "code",
   "execution_count": 81,
   "id": "closing-uncle",
   "metadata": {},
   "outputs": [
    {
     "name": "stdout",
     "output_type": "stream",
     "text": [
      "took 0.4008 seconds\n"
     ]
    },
    {
     "data": {
      "text/html": [
       "<div>\n",
       "<style scoped>\n",
       "    .dataframe tbody tr th:only-of-type {\n",
       "        vertical-align: middle;\n",
       "    }\n",
       "\n",
       "    .dataframe tbody tr th {\n",
       "        vertical-align: top;\n",
       "    }\n",
       "\n",
       "    .dataframe thead th {\n",
       "        text-align: right;\n",
       "    }\n",
       "</style>\n",
       "<table border=\"1\" class=\"dataframe\">\n",
       "  <thead>\n",
       "    <tr style=\"text-align: right;\">\n",
       "      <th></th>\n",
       "      <th>city</th>\n",
       "      <th>editor</th>\n",
       "      <th>edit_timestamp</th>\n",
       "      <th>recid</th>\n",
       "      <th>warning</th>\n",
       "    </tr>\n",
       "  </thead>\n",
       "  <tbody>\n",
       "    <tr>\n",
       "      <th>0</th>\n",
       "      <td>Cloverdale</td>\n",
       "      <td>Joshua Croff</td>\n",
       "      <td>2019-10-21 00:00:00</td>\n",
       "      <td>thiswasadded1-f595-4fa8-8da2-975dfae46dc4</td>\n",
       "      <td>max_far value is out of range (val = 0.0)</td>\n",
       "    </tr>\n",
       "    <tr>\n",
       "      <th>1</th>\n",
       "      <td>Cloverdale</td>\n",
       "      <td>Joshua Croff</td>\n",
       "      <td>2019-10-21 00:00:00</td>\n",
       "      <td>thiswasadded1-f595-4fa8-8da2-975dfae46dc4</td>\n",
       "      <td>max_dua value is out of range (val = 0.0)</td>\n",
       "    </tr>\n",
       "    <tr>\n",
       "      <th>2</th>\n",
       "      <td>Cloverdale</td>\n",
       "      <td>Joshua Croff</td>\n",
       "      <td>2019-10-21 00:00:00</td>\n",
       "      <td>thiswasadded1-f595-4fa8-8da2-975dfae46dc4</td>\n",
       "      <td>0    Joshua Croff\\nName: editor, dtype: object not in other row records for editor</td>\n",
       "    </tr>\n",
       "    <tr>\n",
       "      <th>3</th>\n",
       "      <td>Fremont</td>\n",
       "      <td>Joshua Croff</td>\n",
       "      <td>2019-10-25 00:00:00</td>\n",
       "      <td>e63d2e0d-2baf-4d4d-a6f8-5eae9bdbc33c</td>\n",
       "      <td>regional_lu_class value is out of range (val = 123.0)</td>\n",
       "    </tr>\n",
       "    <tr>\n",
       "      <th>4</th>\n",
       "      <td>Fremont</td>\n",
       "      <td>Joshua Croff</td>\n",
       "      <td>2019-10-25 00:00:00</td>\n",
       "      <td>e63d2e0d-2baf-4d4d-a6f8-5eae9bdbc33c</td>\n",
       "      <td>max_far value is out of range (val = 0.0)</td>\n",
       "    </tr>\n",
       "    <tr>\n",
       "      <th>5</th>\n",
       "      <td>Fremont</td>\n",
       "      <td>Joshua Croff</td>\n",
       "      <td>2019-10-25 00:00:00</td>\n",
       "      <td>e63d2e0d-2baf-4d4d-a6f8-5eae9bdbc33c</td>\n",
       "      <td>max_dua value is out of range (val = 5000.0)</td>\n",
       "    </tr>\n",
       "    <tr>\n",
       "      <th>6</th>\n",
       "      <td>Fremont</td>\n",
       "      <td>Joshua Croff</td>\n",
       "      <td>2019-10-25 00:00:00</td>\n",
       "      <td>e63d2e0d-2baf-4d4d-a6f8-5eae9bdbc33c</td>\n",
       "      <td>Joshua Croff not in other row records for editor</td>\n",
       "    </tr>\n",
       "    <tr>\n",
       "      <th>7</th>\n",
       "      <td>Oakland</td>\n",
       "      <td>Joshua Croff</td>\n",
       "      <td>2019-10-25 00:00:00</td>\n",
       "      <td>62db00d9-c9ff-4764-8d84-59413fe5f0b6</td>\n",
       "      <td>max_far value is out of range (val = 16.0)</td>\n",
       "    </tr>\n",
       "    <tr>\n",
       "      <th>8</th>\n",
       "      <td>Oakland</td>\n",
       "      <td>Joshua Croff</td>\n",
       "      <td>2019-10-25 00:00:00</td>\n",
       "      <td>62db00d9-c9ff-4764-8d84-59413fe5f0b6</td>\n",
       "      <td>max_dua value is out of range (val = 0.0)</td>\n",
       "    </tr>\n",
       "    <tr>\n",
       "      <th>9</th>\n",
       "      <td>Oakland</td>\n",
       "      <td>Joshua Croff</td>\n",
       "      <td>2019-10-25 00:00:00</td>\n",
       "      <td>62db00d9-c9ff-4764-8d84-59413fe5f0b6</td>\n",
       "      <td>3756    CN-2 - D-KP-3\\nName: zn_code, dtype: object not in other row records for zn_code</td>\n",
       "    </tr>\n",
       "    <tr>\n",
       "      <th>10</th>\n",
       "      <td>Oakland</td>\n",
       "      <td>Joshua Croff</td>\n",
       "      <td>2019-10-25 00:00:00</td>\n",
       "      <td>62db00d9-c9ff-4764-8d84-59413fe5f0b6</td>\n",
       "      <td>3756    Kaiser Permanente Oakland Medical Center Zone\\nName: zn_area_overlay, dtype: object not in other row records for zn_area_overlay</td>\n",
       "    </tr>\n",
       "    <tr>\n",
       "      <th>11</th>\n",
       "      <td>Oakland</td>\n",
       "      <td>Joshua Croff</td>\n",
       "      <td>2019-10-25 00:00:00</td>\n",
       "      <td>62db00d9-c9ff-4764-8d84-59413fe5f0b6</td>\n",
       "      <td>3756    25.0\\nName: source, dtype: object not in other row records for source</td>\n",
       "    </tr>\n",
       "    <tr>\n",
       "      <th>12</th>\n",
       "      <td>Oakland</td>\n",
       "      <td>Joshua Croff</td>\n",
       "      <td>2019-10-25 00:00:00</td>\n",
       "      <td>62db00d9-c9ff-4764-8d84-59413fe5f0b6</td>\n",
       "      <td>3756    Joshua Croff\\nName: editor, dtype: object not in other row records for editor</td>\n",
       "    </tr>\n",
       "    <tr>\n",
       "      <th>13</th>\n",
       "      <td>Oakland</td>\n",
       "      <td>Joshua Croff</td>\n",
       "      <td>2019-10-25 00:00:00</td>\n",
       "      <td>c1a59692-ee49-4677-95d0-f64e580e5754</td>\n",
       "      <td>max_far value is out of range (val = 0.0)</td>\n",
       "    </tr>\n",
       "    <tr>\n",
       "      <th>14</th>\n",
       "      <td>Oakland</td>\n",
       "      <td>Joshua Croff</td>\n",
       "      <td>2019-10-25 00:00:00</td>\n",
       "      <td>c1a59692-ee49-4677-95d0-f64e580e5754</td>\n",
       "      <td>max_dua value is out of range (val = 0.0)</td>\n",
       "    </tr>\n",
       "    <tr>\n",
       "      <th>15</th>\n",
       "      <td>Oakland</td>\n",
       "      <td>Joshua Croff</td>\n",
       "      <td>2019-10-25 00:00:00</td>\n",
       "      <td>c1a59692-ee49-4677-95d0-f64e580e5754</td>\n",
       "      <td>units_per_lot value is out of range (val = 12.0)</td>\n",
       "    </tr>\n",
       "    <tr>\n",
       "      <th>16</th>\n",
       "      <td>Oakland</td>\n",
       "      <td>Joshua Croff</td>\n",
       "      <td>2019-10-25 00:00:00</td>\n",
       "      <td>c1a59692-ee49-4677-95d0-f64e580e5754</td>\n",
       "      <td>4060    123.0\\nName: source, dtype: object not in other row records for source</td>\n",
       "    </tr>\n",
       "    <tr>\n",
       "      <th>17</th>\n",
       "      <td>Oakland</td>\n",
       "      <td>Joshua Croff</td>\n",
       "      <td>2019-10-25 00:00:00</td>\n",
       "      <td>c1a59692-ee49-4677-95d0-f64e580e5754</td>\n",
       "      <td>4060    Joshua Croff\\nName: editor, dtype: object not in other row records for editor</td>\n",
       "    </tr>\n",
       "    <tr>\n",
       "      <th>18</th>\n",
       "      <td>San Leandro</td>\n",
       "      <td>Avalon Schultz</td>\n",
       "      <td>2019-10-25 00:00:00</td>\n",
       "      <td>338fdfa3-3d33-42ec-afbb-b1ca11f7a73a</td>\n",
       "      <td>regional_lu_class value is out of range (val = 123.0)</td>\n",
       "    </tr>\n",
       "    <tr>\n",
       "      <th>19</th>\n",
       "      <td>San Leandro</td>\n",
       "      <td>Avalon Schultz</td>\n",
       "      <td>2019-10-25 00:00:00</td>\n",
       "      <td>338fdfa3-3d33-42ec-afbb-b1ca11f7a73a</td>\n",
       "      <td>max_dua value is out of range (val = 5000.0)</td>\n",
       "    </tr>\n",
       "    <tr>\n",
       "      <th>20</th>\n",
       "      <td>San Leandro</td>\n",
       "      <td>Avalon Schultz</td>\n",
       "      <td>2019-10-25 00:00:00</td>\n",
       "      <td>338fdfa3-3d33-42ec-afbb-b1ca11f7a73a</td>\n",
       "      <td>Avalon Schultz not in other row records for editor</td>\n",
       "    </tr>\n",
       "    <tr>\n",
       "      <th>21</th>\n",
       "      <td>San Leandro</td>\n",
       "      <td>Avalon Schultz</td>\n",
       "      <td>2019-10-25 00:00:00</td>\n",
       "      <td>338fdfa3-3d33-42ec-afbb-b1ca11f7a73a</td>\n",
       "      <td>Testing In Place not in other row records for zn_description</td>\n",
       "    </tr>\n",
       "  </tbody>\n",
       "</table>\n",
       "</div>"
      ],
      "text/plain": [
       "           city          editor       edit_timestamp  \\\n",
       "0    Cloverdale    Joshua Croff  2019-10-21 00:00:00   \n",
       "1    Cloverdale    Joshua Croff  2019-10-21 00:00:00   \n",
       "2    Cloverdale    Joshua Croff  2019-10-21 00:00:00   \n",
       "3       Fremont    Joshua Croff  2019-10-25 00:00:00   \n",
       "4       Fremont    Joshua Croff  2019-10-25 00:00:00   \n",
       "5       Fremont    Joshua Croff  2019-10-25 00:00:00   \n",
       "6       Fremont    Joshua Croff  2019-10-25 00:00:00   \n",
       "7       Oakland    Joshua Croff  2019-10-25 00:00:00   \n",
       "8       Oakland    Joshua Croff  2019-10-25 00:00:00   \n",
       "9       Oakland    Joshua Croff  2019-10-25 00:00:00   \n",
       "10      Oakland    Joshua Croff  2019-10-25 00:00:00   \n",
       "11      Oakland    Joshua Croff  2019-10-25 00:00:00   \n",
       "12      Oakland    Joshua Croff  2019-10-25 00:00:00   \n",
       "13      Oakland    Joshua Croff  2019-10-25 00:00:00   \n",
       "14      Oakland    Joshua Croff  2019-10-25 00:00:00   \n",
       "15      Oakland    Joshua Croff  2019-10-25 00:00:00   \n",
       "16      Oakland    Joshua Croff  2019-10-25 00:00:00   \n",
       "17      Oakland    Joshua Croff  2019-10-25 00:00:00   \n",
       "18  San Leandro  Avalon Schultz  2019-10-25 00:00:00   \n",
       "19  San Leandro  Avalon Schultz  2019-10-25 00:00:00   \n",
       "20  San Leandro  Avalon Schultz  2019-10-25 00:00:00   \n",
       "21  San Leandro  Avalon Schultz  2019-10-25 00:00:00   \n",
       "\n",
       "                                        recid  \\\n",
       "0   thiswasadded1-f595-4fa8-8da2-975dfae46dc4   \n",
       "1   thiswasadded1-f595-4fa8-8da2-975dfae46dc4   \n",
       "2   thiswasadded1-f595-4fa8-8da2-975dfae46dc4   \n",
       "3        e63d2e0d-2baf-4d4d-a6f8-5eae9bdbc33c   \n",
       "4        e63d2e0d-2baf-4d4d-a6f8-5eae9bdbc33c   \n",
       "5        e63d2e0d-2baf-4d4d-a6f8-5eae9bdbc33c   \n",
       "6        e63d2e0d-2baf-4d4d-a6f8-5eae9bdbc33c   \n",
       "7        62db00d9-c9ff-4764-8d84-59413fe5f0b6   \n",
       "8        62db00d9-c9ff-4764-8d84-59413fe5f0b6   \n",
       "9        62db00d9-c9ff-4764-8d84-59413fe5f0b6   \n",
       "10       62db00d9-c9ff-4764-8d84-59413fe5f0b6   \n",
       "11       62db00d9-c9ff-4764-8d84-59413fe5f0b6   \n",
       "12       62db00d9-c9ff-4764-8d84-59413fe5f0b6   \n",
       "13       c1a59692-ee49-4677-95d0-f64e580e5754   \n",
       "14       c1a59692-ee49-4677-95d0-f64e580e5754   \n",
       "15       c1a59692-ee49-4677-95d0-f64e580e5754   \n",
       "16       c1a59692-ee49-4677-95d0-f64e580e5754   \n",
       "17       c1a59692-ee49-4677-95d0-f64e580e5754   \n",
       "18       338fdfa3-3d33-42ec-afbb-b1ca11f7a73a   \n",
       "19       338fdfa3-3d33-42ec-afbb-b1ca11f7a73a   \n",
       "20       338fdfa3-3d33-42ec-afbb-b1ca11f7a73a   \n",
       "21       338fdfa3-3d33-42ec-afbb-b1ca11f7a73a   \n",
       "\n",
       "                                                                                                                                     warning  \n",
       "0                                                                                                  max_far value is out of range (val = 0.0)  \n",
       "1                                                                                                  max_dua value is out of range (val = 0.0)  \n",
       "2                                                         0    Joshua Croff\\nName: editor, dtype: object not in other row records for editor  \n",
       "3                                                                                      regional_lu_class value is out of range (val = 123.0)  \n",
       "4                                                                                                  max_far value is out of range (val = 0.0)  \n",
       "5                                                                                               max_dua value is out of range (val = 5000.0)  \n",
       "6                                                                                           Joshua Croff not in other row records for editor  \n",
       "7                                                                                                 max_far value is out of range (val = 16.0)  \n",
       "8                                                                                                  max_dua value is out of range (val = 0.0)  \n",
       "9                                                   3756    CN-2 - D-KP-3\\nName: zn_code, dtype: object not in other row records for zn_code  \n",
       "10  3756    Kaiser Permanente Oakland Medical Center Zone\\nName: zn_area_overlay, dtype: object not in other row records for zn_area_overlay  \n",
       "11                                                             3756    25.0\\nName: source, dtype: object not in other row records for source  \n",
       "12                                                     3756    Joshua Croff\\nName: editor, dtype: object not in other row records for editor  \n",
       "13                                                                                                 max_far value is out of range (val = 0.0)  \n",
       "14                                                                                                 max_dua value is out of range (val = 0.0)  \n",
       "15                                                                                          units_per_lot value is out of range (val = 12.0)  \n",
       "16                                                            4060    123.0\\nName: source, dtype: object not in other row records for source  \n",
       "17                                                     4060    Joshua Croff\\nName: editor, dtype: object not in other row records for editor  \n",
       "18                                                                                     regional_lu_class value is out of range (val = 123.0)  \n",
       "19                                                                                              max_dua value is out of range (val = 5000.0)  \n",
       "20                                                                                        Avalon Schultz not in other row records for editor  \n",
       "21                                                                              Testing In Place not in other row records for zn_description  "
      ]
     },
     "metadata": {},
     "output_type": "display_data"
    }
   ],
   "source": [
    "pretty_print(pull_df_from_redshift_sql('select * from basis_edit_logs.warning_log_2021'))"
   ]
  },
  {
   "cell_type": "markdown",
   "id": "810cd9cc-b02a-49ec-adfa-7a79d4e142a7",
   "metadata": {},
   "source": [
    " "
   ]
  },
  {
   "cell_type": "markdown",
   "id": "e2feef91-2d3d-486b-ad9b-b8328060c8f5",
   "metadata": {},
   "source": [
    " "
   ]
  },
  {
   "cell_type": "markdown",
   "id": "9f1d3ff9-ce05-456f-ba0c-597bbe62a06f",
   "metadata": {},
   "source": [
    " "
   ]
  },
  {
   "cell_type": "markdown",
   "id": "df82b639-e286-4317-910f-0a1d7c606028",
   "metadata": {},
   "source": [
    "# Deprecated!!! (though may have some useful content)"
   ]
  },
  {
   "cell_type": "markdown",
   "id": "e96163c5-eb95-4c73-a853-584c71c827a1",
   "metadata": {},
   "source": [
    " "
   ]
  },
  {
   "cell_type": "markdown",
   "id": "ab3b01c6-2493-418e-b96e-9ea93b60cd95",
   "metadata": {},
   "source": [
    " "
   ]
  },
  {
   "cell_type": "markdown",
   "id": "08c6a8f3-b96a-4495-88cf-c5a9b6d2ce53",
   "metadata": {},
   "source": [
    " "
   ]
  },
  {
   "cell_type": "markdown",
   "id": "preliminary-circle",
   "metadata": {},
   "source": [
    "# Simulating Jurisdiction Entries\n",
    "\n",
    "- Using a few simulated cases, jurisdiction entries for three dates will be saved to \"Example_Logs\"\n",
    "\n",
    "## Update 1:"
   ]
  },
  {
   "cell_type": "code",
   "execution_count": null,
   "id": "starting-jackson",
   "metadata": {},
   "outputs": [],
   "source": [
    "df_old = load_data()\n",
    "update1 = use_cases(df_old)\n",
    "update1_info = CheckUpdates(df_old, update1, primary_key='recid', parcels=False)"
   ]
  },
  {
   "cell_type": "code",
   "execution_count": null,
   "id": "marine-monaco",
   "metadata": {},
   "outputs": [],
   "source": [
    "update1_info.row_comparison\n",
    "update1_info.update_analysis()"
   ]
  },
  {
   "cell_type": "code",
   "execution_count": null,
   "id": "molecular-choice",
   "metadata": {
    "tags": []
   },
   "outputs": [],
   "source": [
    "update1_info.update_log"
   ]
  },
  {
   "cell_type": "code",
   "execution_count": null,
   "id": "official-variation",
   "metadata": {
    "tags": []
   },
   "outputs": [],
   "source": [
    "pretty_print(update1_info.warning_table)"
   ]
  },
  {
   "cell_type": "code",
   "execution_count": null,
   "id": "existing-bleeding",
   "metadata": {},
   "outputs": [],
   "source": [
    "date = pd.Timestamp('2019-10-25')\n",
    "current_date = date.strftime(\"%y-%m-%d_%H-%M\")\n",
    "\n",
    "warnings_file_name = 'warnings_' + current_date\n",
    "update_log_file_name = 'update-log_' + current_date\n",
    "\n",
    "update1_info.update_log.to_csv('Example_Logs/'+update_log_file_name+'.csv')\n",
    "update1_info.warning_table.to_csv('Example_Logs/'+warnings_file_name+'.csv')"
   ]
  },
  {
   "cell_type": "code",
   "execution_count": null,
   "id": "genuine-diploma",
   "metadata": {},
   "outputs": [],
   "source": [
    "df_old.to_csv('Example_Logs/Master_Table.csv')"
   ]
  },
  {
   "cell_type": "code",
   "execution_count": null,
   "id": "diagnostic-italy",
   "metadata": {},
   "outputs": [],
   "source": [
    "pd.Timestamp('2019-10-25')"
   ]
  },
  {
   "cell_type": "markdown",
   "id": "pleasant-daniel",
   "metadata": {},
   "source": [
    "## Update 2:"
   ]
  },
  {
   "cell_type": "code",
   "execution_count": null,
   "id": "aquatic-disney",
   "metadata": {},
   "outputs": [],
   "source": [
    "update2 = use_cases_entry_2(df_old)\n",
    "update2_info = CheckUpdates(df_old, update2, primary_key='recid', parcels=False)"
   ]
  },
  {
   "cell_type": "code",
   "execution_count": null,
   "id": "bright-officer",
   "metadata": {},
   "outputs": [],
   "source": [
    "#update_info.row_comparison\n",
    "update2_info.update_analysis()\n",
    "\n",
    "date = pd.Timestamp('2019-11-14')\n",
    "current_date = date.strftime(\"%y-%m-%d_%H-%M\")\n",
    "\n",
    "warnings_file_name = 'warnings_' + current_date\n",
    "update_log_file_name = 'update-log_' + current_date\n",
    "\n",
    "update2_info.update_log.to_csv('Example_Logs/'+update_log_file_name+'.csv')\n",
    "update2_info.warning_table.to_csv('Example_Logs/'+warnings_file_name+'.csv')"
   ]
  },
  {
   "cell_type": "markdown",
   "id": "magnetic-laser",
   "metadata": {},
   "source": [
    "## Update 3:"
   ]
  },
  {
   "cell_type": "code",
   "execution_count": null,
   "id": "chinese-georgia",
   "metadata": {},
   "outputs": [],
   "source": [
    "update3 = use_cases_entry_3(df_old)\n",
    "update3_info = CheckUpdates(df_old, update3, primary_key='recid', parcels=False)"
   ]
  },
  {
   "cell_type": "code",
   "execution_count": null,
   "id": "indian-renewal",
   "metadata": {},
   "outputs": [],
   "source": [
    "#update_info.row_comparison\n",
    "update3_info.update_analysis()\n",
    "\n",
    "date = pd.Timestamp('2020-01-01')\n",
    "current_date = date.strftime(\"%y-%m-%d_%H-%M\")\n",
    "\n",
    "warnings_file_name = 'warnings_' + current_date\n",
    "update_log_file_name = 'update-log_' + current_date\n",
    "\n",
    "update3_info.update_log.to_csv('Example_Logs/'+update_log_file_name+'.csv')\n",
    "update3_info.warning_table.to_csv('Example_Logs/'+warnings_file_name+'.csv')"
   ]
  },
  {
   "cell_type": "markdown",
   "id": "gentle-ultimate",
   "metadata": {},
   "source": [
    "# Pulling the Warnings/Logs From Master to a Certain Date\n",
    "\n",
    "- Product all the updates from the \"master\" table to the cutoff date in tabular format"
   ]
  },
  {
   "cell_type": "code",
   "execution_count": null,
   "id": "painful-petite",
   "metadata": {},
   "outputs": [],
   "source": [
    "import os\n",
    "#Pull the file list from \"Example_Logs\"\n",
    "\n",
    "def retrieve_logs(path: str, cutoff_date: str) -> pd.DataFrame:\n",
    "    \"\"\"\n",
    "    Inputs:\n",
    "    path -> path to the logs\n",
    "    cutoff_date -> Up to what day? format: yy-mm-dd_hh-mm\n",
    "    \"\"\"\n",
    "    files = os.listdir(path)\n",
    "\n",
    "    files_txt = [i for i in files if i.endswith('.csv')]\n",
    "\n",
    "    cutoff_date = datetime.strptime(cutoff_date, '%y-%m-%d_%H-%M')\n",
    "\n",
    "    warning_log_df = pd.DataFrame()\n",
    "    update_log_df = pd.DataFrame()\n",
    "\n",
    "    for file in files_txt[1:]:\n",
    "        try:\n",
    "            date = file.partition(\"_\")[2].split(\".\")[0]\n",
    "            date = datetime.strptime(date, '%y-%m-%d_%H-%M')\n",
    "            if cutoff_date > date:\n",
    "                if 'update' in file:\n",
    "#                     print(\"update_log:\")\n",
    "#                     print(file)\n",
    "                    update_log_df = update_log_df.append(pd.read_csv(path+\"/\"+file, index_col='Unnamed: 0'))\n",
    "                elif 'warning' in file:\n",
    "#                     print(\"warning_log:\")\n",
    "#                     print(file)\n",
    "                    warning_log_df = warning_log_df.append(pd.read_csv(path+\"/\"+file, index_col='Unnamed: 0'))\n",
    "        except:\n",
    "            continue\n",
    "\n",
    "    update_log_df = update_log_df.sort_values(by='city_name')\n",
    "    warning_log_df = warning_log_df.sort_values(by='editor')\n",
    "    return update_log_df, warning_log_df\n",
    "\n",
    "path = '/Users/okeefe/Box/USF Data Science Practicum/2020-21/Okeefe/Project_3_BASIS_Pipeline/Example_Logs'\n",
    "cutoff_date = '19-12-30_10-15'\n",
    "\n",
    "update_log, warning_log = retrieve_logs(path, cutoff_date)"
   ]
  },
  {
   "cell_type": "code",
   "execution_count": null,
   "id": "interracial-leather",
   "metadata": {
    "tags": []
   },
   "outputs": [],
   "source": [
    "pretty_print(update_log)"
   ]
  },
  {
   "cell_type": "code",
   "execution_count": null,
   "id": "amateur-summer",
   "metadata": {
    "tags": []
   },
   "outputs": [],
   "source": [
    "pretty_print(warning_log)"
   ]
  },
  {
   "cell_type": "markdown",
   "id": "concerned-mobile",
   "metadata": {},
   "source": [
    "# Roll Back to a Specified Date\n"
   ]
  },
  {
   "cell_type": "markdown",
   "id": "signal-judge",
   "metadata": {
    "tags": []
   },
   "source": [
    "# Save log into S3\n",
    "\n",
    "- Once analysis is run, the following cell will save the file by date and time to the s3 path of choice."
   ]
  },
  {
   "cell_type": "code",
   "execution_count": null,
   "id": "contemporary-philip",
   "metadata": {},
   "outputs": [],
   "source": [
    "import datetime\n",
    "\n",
    "now = datetime.datetime.now()\n",
    "current_date = now.strftime(\"%y-%m-%d_%H:%M\")\n",
    "\n",
    "warnings_file_name = 'warnings_' + current_date\n",
    "update_log_file_name = 'update_log_' + current_date\n",
    "\n",
    "\n",
    "\n",
    "# post_df_to_s3(update_info.warning_table, 'upload-logs-data-lake-mtc', warnings_file_name)\n",
    "# post_df_to_s3(update_info.update_table, 'upload-logs-data-lake-mtc', update_log_file_name)"
   ]
  },
  {
   "cell_type": "markdown",
   "id": "unusual-keyboard",
   "metadata": {
    "tags": []
   },
   "source": [
    "def all_changed_rows(date):\n",
    "Function: Logs before (date/time)\n",
    "\n",
    "1. Open s3 bucket with all logs\n",
    "2. Parsing all log document titles and extracting dates\n",
    "3. Concatenate all log documents that are before/up to the inputted date/time\n",
    "\n",
    "returns: two pandas dataframes\n",
    "\n",
    "1. concatenated update log \n",
    "2. concatenated warning log (by city)\n",
    "\n",
    "\n",
    "\n",
    "update_logs, warning_logs = all_changed_rows(date)\n",
    "\n",
    "def rollback_table(update_logs, master_socrata_table, save_df=False):\n",
    "  \n",
    "1. Identify changed rows via update_logs\n",
    "2. Make a copy of the master_socrata_table\n",
    "3. Put it into dataframe\n",
    "4. change the rows in the master_socrata_dataframe\n",
    "\n",
    "(optional)\n",
    "5. If save_df, save the updated master_socrata_dataframe as csv (upload to socrata?)\n",
    "\n",
    "return changed_master_socrata_dataframe"
   ]
  }
 ],
 "metadata": {
  "kernelspec": {
   "display_name": "Python 3",
   "language": "python",
   "name": "python3"
  },
  "language_info": {
   "codemirror_mode": {
    "name": "ipython",
    "version": 3
   },
   "file_extension": ".py",
   "mimetype": "text/x-python",
   "name": "python",
   "nbconvert_exporter": "python",
   "pygments_lexer": "ipython3",
   "version": "3.8.2"
  }
 },
 "nbformat": 4,
 "nbformat_minor": 5
}
